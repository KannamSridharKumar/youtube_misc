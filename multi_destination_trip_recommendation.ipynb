{
 "cells": [
  {
   "cell_type": "markdown",
   "id": "55ca3b56",
   "metadata": {},
   "source": [
    "## Next city recommendation in a multi-destination trip"
   ]
  },
  {
   "cell_type": "markdown",
   "id": "494ee689",
   "metadata": {},
   "source": [
    "- Build next city recommendation using only the two columns city_id and utrip_id. \n",
    "- Method-1: Transition probablity matrix - a simple lookup\n",
    "- Method-2: Use previous cities in the trip to create features (using embeddings) and train a ML model. ML model is not trained in this notebook."
   ]
  },
  {
   "cell_type": "code",
   "execution_count": 1,
   "id": "15f3199a",
   "metadata": {},
   "outputs": [],
   "source": [
    "import numpy as np\n",
    "import pandas as pd\n",
    "from collections import Counter\n",
    "from tqdm import tqdm"
   ]
  },
  {
   "cell_type": "code",
   "execution_count": 2,
   "id": "286c90e9",
   "metadata": {},
   "outputs": [
    {
     "name": "stdout",
     "output_type": "stream",
     "text": [
      "(1166835, 9)\n"
     ]
    },
    {
     "data": {
      "text/html": [
       "<div>\n",
       "<style scoped>\n",
       "    .dataframe tbody tr th:only-of-type {\n",
       "        vertical-align: middle;\n",
       "    }\n",
       "\n",
       "    .dataframe tbody tr th {\n",
       "        vertical-align: top;\n",
       "    }\n",
       "\n",
       "    .dataframe thead th {\n",
       "        text-align: right;\n",
       "    }\n",
       "</style>\n",
       "<table border=\"1\" class=\"dataframe\">\n",
       "  <thead>\n",
       "    <tr style=\"text-align: right;\">\n",
       "      <th></th>\n",
       "      <th>user_id</th>\n",
       "      <th>checkin</th>\n",
       "      <th>checkout</th>\n",
       "      <th>city_id</th>\n",
       "      <th>device_class</th>\n",
       "      <th>affiliate_id</th>\n",
       "      <th>booker_country</th>\n",
       "      <th>hotel_country</th>\n",
       "      <th>utrip_id</th>\n",
       "    </tr>\n",
       "  </thead>\n",
       "  <tbody>\n",
       "    <tr>\n",
       "      <th>0</th>\n",
       "      <td>1000027</td>\n",
       "      <td>2016-08-13</td>\n",
       "      <td>2016-08-14</td>\n",
       "      <td>8183</td>\n",
       "      <td>desktop</td>\n",
       "      <td>7168</td>\n",
       "      <td>Elbonia</td>\n",
       "      <td>Gondal</td>\n",
       "      <td>1000027_1</td>\n",
       "    </tr>\n",
       "    <tr>\n",
       "      <th>1</th>\n",
       "      <td>1000027</td>\n",
       "      <td>2016-08-14</td>\n",
       "      <td>2016-08-16</td>\n",
       "      <td>15626</td>\n",
       "      <td>desktop</td>\n",
       "      <td>7168</td>\n",
       "      <td>Elbonia</td>\n",
       "      <td>Gondal</td>\n",
       "      <td>1000027_1</td>\n",
       "    </tr>\n",
       "    <tr>\n",
       "      <th>2</th>\n",
       "      <td>1000027</td>\n",
       "      <td>2016-08-16</td>\n",
       "      <td>2016-08-18</td>\n",
       "      <td>60902</td>\n",
       "      <td>desktop</td>\n",
       "      <td>7168</td>\n",
       "      <td>Elbonia</td>\n",
       "      <td>Gondal</td>\n",
       "      <td>1000027_1</td>\n",
       "    </tr>\n",
       "    <tr>\n",
       "      <th>3</th>\n",
       "      <td>1000027</td>\n",
       "      <td>2016-08-18</td>\n",
       "      <td>2016-08-21</td>\n",
       "      <td>30628</td>\n",
       "      <td>desktop</td>\n",
       "      <td>253</td>\n",
       "      <td>Elbonia</td>\n",
       "      <td>Gondal</td>\n",
       "      <td>1000027_1</td>\n",
       "    </tr>\n",
       "    <tr>\n",
       "      <th>4</th>\n",
       "      <td>1000033</td>\n",
       "      <td>2016-04-09</td>\n",
       "      <td>2016-04-11</td>\n",
       "      <td>38677</td>\n",
       "      <td>mobile</td>\n",
       "      <td>359</td>\n",
       "      <td>Gondal</td>\n",
       "      <td>Cobra Island</td>\n",
       "      <td>1000033_1</td>\n",
       "    </tr>\n",
       "  </tbody>\n",
       "</table>\n",
       "</div>"
      ],
      "text/plain": [
       "   user_id     checkin    checkout  city_id device_class  affiliate_id  \\\n",
       "0  1000027  2016-08-13  2016-08-14     8183      desktop          7168   \n",
       "1  1000027  2016-08-14  2016-08-16    15626      desktop          7168   \n",
       "2  1000027  2016-08-16  2016-08-18    60902      desktop          7168   \n",
       "3  1000027  2016-08-18  2016-08-21    30628      desktop           253   \n",
       "4  1000033  2016-04-09  2016-04-11    38677       mobile           359   \n",
       "\n",
       "  booker_country hotel_country   utrip_id  \n",
       "0        Elbonia        Gondal  1000027_1  \n",
       "1        Elbonia        Gondal  1000027_1  \n",
       "2        Elbonia        Gondal  1000027_1  \n",
       "3        Elbonia        Gondal  1000027_1  \n",
       "4         Gondal  Cobra Island  1000033_1  "
      ]
     },
     "execution_count": 2,
     "metadata": {},
     "output_type": "execute_result"
    }
   ],
   "source": [
    "df = pd.read_csv(\"train_set.csv\")\n",
    "print(df.shape)\n",
    "df.head()"
   ]
  },
  {
   "cell_type": "code",
   "execution_count": 3,
   "id": "3ec15f4b",
   "metadata": {},
   "outputs": [],
   "source": [
    "df = df[['utrip_id', 'city_id', 'checkin']]\n",
    "df = df.sort_values(['utrip_id', 'checkin'])"
   ]
  },
  {
   "cell_type": "code",
   "execution_count": 4,
   "id": "18b62efa",
   "metadata": {},
   "outputs": [
    {
     "data": {
      "text/html": [
       "<div>\n",
       "<style scoped>\n",
       "    .dataframe tbody tr th:only-of-type {\n",
       "        vertical-align: middle;\n",
       "    }\n",
       "\n",
       "    .dataframe tbody tr th {\n",
       "        vertical-align: top;\n",
       "    }\n",
       "\n",
       "    .dataframe thead th {\n",
       "        text-align: right;\n",
       "    }\n",
       "</style>\n",
       "<table border=\"1\" class=\"dataframe\">\n",
       "  <thead>\n",
       "    <tr style=\"text-align: right;\">\n",
       "      <th></th>\n",
       "      <th>utrip_id</th>\n",
       "      <th>city_id</th>\n",
       "    </tr>\n",
       "  </thead>\n",
       "  <tbody>\n",
       "    <tr>\n",
       "      <th>0</th>\n",
       "      <td>1000027_1</td>\n",
       "      <td>8183</td>\n",
       "    </tr>\n",
       "    <tr>\n",
       "      <th>1</th>\n",
       "      <td>1000027_1</td>\n",
       "      <td>15626</td>\n",
       "    </tr>\n",
       "    <tr>\n",
       "      <th>2</th>\n",
       "      <td>1000027_1</td>\n",
       "      <td>60902</td>\n",
       "    </tr>\n",
       "    <tr>\n",
       "      <th>3</th>\n",
       "      <td>1000027_1</td>\n",
       "      <td>30628</td>\n",
       "    </tr>\n",
       "    <tr>\n",
       "      <th>4</th>\n",
       "      <td>1000033_1</td>\n",
       "      <td>38677</td>\n",
       "    </tr>\n",
       "    <tr>\n",
       "      <th>5</th>\n",
       "      <td>1000033_1</td>\n",
       "      <td>52089</td>\n",
       "    </tr>\n",
       "    <tr>\n",
       "      <th>6</th>\n",
       "      <td>1000033_1</td>\n",
       "      <td>21328</td>\n",
       "    </tr>\n",
       "    <tr>\n",
       "      <th>7</th>\n",
       "      <td>1000033_1</td>\n",
       "      <td>27485</td>\n",
       "    </tr>\n",
       "    <tr>\n",
       "      <th>8</th>\n",
       "      <td>1000033_1</td>\n",
       "      <td>38677</td>\n",
       "    </tr>\n",
       "    <tr>\n",
       "      <th>9</th>\n",
       "      <td>1000045_1</td>\n",
       "      <td>64876</td>\n",
       "    </tr>\n",
       "  </tbody>\n",
       "</table>\n",
       "</div>"
      ],
      "text/plain": [
       "    utrip_id  city_id\n",
       "0  1000027_1     8183\n",
       "1  1000027_1    15626\n",
       "2  1000027_1    60902\n",
       "3  1000027_1    30628\n",
       "4  1000033_1    38677\n",
       "5  1000033_1    52089\n",
       "6  1000033_1    21328\n",
       "7  1000033_1    27485\n",
       "8  1000033_1    38677\n",
       "9  1000045_1    64876"
      ]
     },
     "execution_count": 4,
     "metadata": {},
     "output_type": "execute_result"
    }
   ],
   "source": [
    "df = df[['utrip_id', 'city_id']]\n",
    "df.head(10)"
   ]
  },
  {
   "cell_type": "code",
   "execution_count": 5,
   "id": "2eb51c80",
   "metadata": {},
   "outputs": [],
   "source": [
    "df.columns = ['trip_id', 'city_id']\n",
    "df.to_csv(\"tripid_cityid.csv\", index=False)"
   ]
  },
  {
   "cell_type": "code",
   "execution_count": 6,
   "id": "f838173c",
   "metadata": {},
   "outputs": [
    {
     "name": "stdout",
     "output_type": "stream",
     "text": [
      "/Users/sridharkannam/Desktop/myCourses_Code/trip_recommendation\r\n"
     ]
    }
   ],
   "source": [
    "!pwd"
   ]
  },
  {
   "cell_type": "code",
   "execution_count": null,
   "id": "44a9ed35",
   "metadata": {},
   "outputs": [],
   "source": [
    "1000027_1: 8183 -> 15626 -> 60902 -> 30628 "
   ]
  },
  {
   "cell_type": "code",
   "execution_count": null,
   "id": "0d87e22e",
   "metadata": {},
   "outputs": [],
   "source": [
    "1000033_1: 38677 -> 52089 -> 21328 -> 27485 (-> 38677)"
   ]
  },
  {
   "cell_type": "code",
   "execution_count": null,
   "id": "09b49ce5",
   "metadata": {},
   "outputs": [],
   "source": [
    "trip_1:  A -> C -> A\n",
    "trip_2:  B -> A -> C -> A -> B\n",
    "trip_3:  A -> B -> C "
   ]
  },
  {
   "cell_type": "code",
   "execution_count": null,
   "id": "dd11e208",
   "metadata": {},
   "outputs": [],
   "source": [
    "trip_1: [A, C] = 1\n",
    "trip_2: [B, A] = 1, [A, C] = 1, [C, A] = 1,\n",
    "trip_3: [A, B] = 1, [B, C] = 1  "
   ]
  },
  {
   "cell_type": "code",
   "execution_count": null,
   "id": "3d6f089e",
   "metadata": {},
   "outputs": [],
   "source": [
    "  A B C  T\n",
    "A 0 1 2  3\n",
    "B 1 0 1  2\n",
    "C 1 0 0  1"
   ]
  },
  {
   "cell_type": "code",
   "execution_count": null,
   "id": "97ff4036",
   "metadata": {},
   "outputs": [],
   "source": [
    "  A    B    C  \n",
    "A 0   1/3  2/3 \n",
    "B 1/2  0   1/2\n",
    "C 1    0   0  "
   ]
  },
  {
   "cell_type": "markdown",
   "id": "e8b57dcd",
   "metadata": {},
   "source": [
    "### Method-1: Transition probablity matrix"
   ]
  },
  {
   "cell_type": "code",
   "execution_count": 4,
   "id": "19d521a0",
   "metadata": {},
   "outputs": [
    {
     "name": "stdout",
     "output_type": "stream",
     "text": [
      "39901\n"
     ]
    }
   ],
   "source": [
    "print(df['city_id'].nunique())"
   ]
  },
  {
   "cell_type": "code",
   "execution_count": 5,
   "id": "843ddbe7",
   "metadata": {},
   "outputs": [
    {
     "name": "stdout",
     "output_type": "stream",
     "text": [
      "CPU times: user 2.86 s, sys: 27.3 ms, total: 2.89 s\n",
      "Wall time: 2.89 s\n"
     ]
    },
    {
     "data": {
      "text/plain": [
       "utrip_id\n",
       "1000027_1                         [8183, 15626, 60902, 30628]\n",
       "1000033_1                 [38677, 52089, 21328, 27485, 38677]\n",
       "1000045_1    [64876, 55128, 9608, 31817, 36170, 58178, 36063]\n",
       "1000083_1                        [55990, 14705, 35160, 36063]\n",
       "100008_1                    [11306, 12096, 6761, 6779, 65690]\n",
       "Name: city_id, dtype: object"
      ]
     },
     "execution_count": 5,
     "metadata": {},
     "output_type": "execute_result"
    }
   ],
   "source": [
    "%%time \n",
    "df_trip_cities = df.groupby('utrip_id')['city_id'].apply(list)\n",
    "df_trip_cities.head()"
   ]
  },
  {
   "cell_type": "code",
   "execution_count": 6,
   "id": "73882e9b",
   "metadata": {},
   "outputs": [
    {
     "name": "stdout",
     "output_type": "stream",
     "text": [
      "840002\n",
      "[(8183, 15626), (15626, 60902), (60902, 30628)]\n",
      "CPU times: user 369 ms, sys: 16.4 ms, total: 386 ms\n",
      "Wall time: 385 ms\n"
     ]
    }
   ],
   "source": [
    "%%time\n",
    "\n",
    "# From the historial trips data create all the pairs of cities (current city, next city)\n",
    "\n",
    "from_to = []\n",
    "for trip_cities in df_trip_cities.values:\n",
    "    if trip_cities[0] == trip_cities[-1]:\n",
    "        trip_cities.pop() # for some trips the last city is same as first city meaning the traveller simply returning home. Remove the last city for such cases\n",
    "    \n",
    "    from_city = trip_cities[:-1]\n",
    "    to_city = trip_cities[1:]\n",
    "    from_to.append(list(zip(from_city, to_city)))\n",
    "    \n",
    "from_to = [item for sublist in from_to for item in sublist]\n",
    "from_to = [f_t for f_t in from_to if f_t[0] != f_t[1]] # remove if the current and next city are the same - data quality issue\n",
    "\n",
    "print(len(from_to))\n",
    "print(from_to[:3])"
   ]
  },
  {
   "cell_type": "code",
   "execution_count": null,
   "id": "6ce2d26f",
   "metadata": {},
   "outputs": [],
   "source": []
  },
  {
   "cell_type": "code",
   "execution_count": 7,
   "id": "25e9a777",
   "metadata": {},
   "outputs": [
    {
     "name": "stdout",
     "output_type": "stream",
     "text": [
      "(37188, 37481)\n",
      "CPU times: user 14.2 s, sys: 38.4 s, total: 52.7 s\n",
      "Wall time: 39.5 s\n"
     ]
    }
   ],
   "source": [
    "%%time\n",
    "trans_prob_mat = pd.Series(Counter(map(tuple, from_to))).unstack().fillna(0)\n",
    "trans_prob_mat = trans_prob_mat.divide(trans_prob_mat.sum(axis=1),axis=0)\n",
    "print(trans_prob_mat.shape)"
   ]
  },
  {
   "cell_type": "code",
   "execution_count": 8,
   "id": "4ad8b429",
   "metadata": {},
   "outputs": [],
   "source": [
    "# Given the current city, this function returns top n cities for next destination \n",
    "    \n",
    "def top_recommendation(current_city_id, n):\n",
    "    city_prob = trans_prob_mat.filter(items = [current_city_id], axis=0).T\n",
    "    city_prob = city_prob.sort_values(current_city_id, ascending=False)\n",
    "    top_n_cities = city_prob.index[:n].to_list()\n",
    "    top_n_probs = city_prob[current_city_id].values[:n] \n",
    "    top_n_probs = list(np.round(top_n_probs, 4))\n",
    "    top_recos = {'city_ids': top_n_cities, 'probabilities': top_n_probs}\n",
    "    return top_recos "
   ]
  },
  {
   "cell_type": "code",
   "execution_count": 9,
   "id": "bf551079",
   "metadata": {},
   "outputs": [
    {
     "name": "stdout",
     "output_type": "stream",
     "text": [
      "{'city_ids': [17764, 27112, 56651, 47499, 7810], 'probabilities': [0.2271, 0.1643, 0.1304, 0.0652, 0.0411]}\n"
     ]
    }
   ],
   "source": [
    "top_recos = top_recommendation(35850, 5)\n",
    "print(top_recos)"
   ]
  },
  {
   "cell_type": "markdown",
   "id": "90d45ece",
   "metadata": {},
   "source": [
    "If a customer is planning to visit the city 35850, then the best recommendation for the next city is 17764, followed by 27112."
   ]
  },
  {
   "cell_type": "code",
   "execution_count": 10,
   "id": "ecb76a1f",
   "metadata": {},
   "outputs": [
    {
     "name": "stdout",
     "output_type": "stream",
     "text": [
      "{'city_ids': [17764, 47499, 56651], 'probabilities': [0.6027, 0.0959, 0.0639]}\n"
     ]
    }
   ],
   "source": [
    "top_recos = top_recommendation(27112, 3)\n",
    "print(top_recos)"
   ]
  },
  {
   "cell_type": "code",
   "execution_count": 11,
   "id": "8b518f81",
   "metadata": {},
   "outputs": [
    {
     "name": "stdout",
     "output_type": "stream",
     "text": [
      "{'city_ids': [58015], 'probabilities': [0.1087]}\n"
     ]
    }
   ],
   "source": [
    "top_recos = top_recommendation(60902, 1)\n",
    "print(top_recos)"
   ]
  },
  {
   "cell_type": "code",
   "execution_count": null,
   "id": "a0c0b38a",
   "metadata": {},
   "outputs": [],
   "source": []
  },
  {
   "cell_type": "code",
   "execution_count": null,
   "id": "249e7b09",
   "metadata": {},
   "outputs": [],
   "source": []
  },
  {
   "cell_type": "code",
   "execution_count": null,
   "id": "58856459",
   "metadata": {},
   "outputs": [],
   "source": []
  },
  {
   "cell_type": "code",
   "execution_count": null,
   "id": "1fd67cb6",
   "metadata": {},
   "outputs": [],
   "source": []
  },
  {
   "cell_type": "code",
   "execution_count": null,
   "id": "372ec5ad",
   "metadata": {},
   "outputs": [],
   "source": []
  },
  {
   "cell_type": "code",
   "execution_count": null,
   "id": "bbf8357e",
   "metadata": {},
   "outputs": [],
   "source": []
  },
  {
   "cell_type": "code",
   "execution_count": null,
   "id": "9682446e",
   "metadata": {},
   "outputs": [],
   "source": []
  },
  {
   "cell_type": "markdown",
   "id": "54905688",
   "metadata": {},
   "source": [
    "### Embeddings"
   ]
  },
  {
   "cell_type": "code",
   "execution_count": 12,
   "id": "28184b96",
   "metadata": {},
   "outputs": [
    {
     "data": {
      "text/html": [
       "<div>\n",
       "<style scoped>\n",
       "    .dataframe tbody tr th:only-of-type {\n",
       "        vertical-align: middle;\n",
       "    }\n",
       "\n",
       "    .dataframe tbody tr th {\n",
       "        vertical-align: top;\n",
       "    }\n",
       "\n",
       "    .dataframe thead th {\n",
       "        text-align: right;\n",
       "    }\n",
       "</style>\n",
       "<table border=\"1\" class=\"dataframe\">\n",
       "  <thead>\n",
       "    <tr style=\"text-align: right;\">\n",
       "      <th></th>\n",
       "      <th>utrip_id</th>\n",
       "      <th>city_id</th>\n",
       "      <th>checkin</th>\n",
       "    </tr>\n",
       "  </thead>\n",
       "  <tbody>\n",
       "    <tr>\n",
       "      <th>0</th>\n",
       "      <td>1000027_1</td>\n",
       "      <td>8183</td>\n",
       "      <td>2016-08-13</td>\n",
       "    </tr>\n",
       "    <tr>\n",
       "      <th>1</th>\n",
       "      <td>1000027_1</td>\n",
       "      <td>15626</td>\n",
       "      <td>2016-08-14</td>\n",
       "    </tr>\n",
       "    <tr>\n",
       "      <th>2</th>\n",
       "      <td>1000027_1</td>\n",
       "      <td>60902</td>\n",
       "      <td>2016-08-16</td>\n",
       "    </tr>\n",
       "    <tr>\n",
       "      <th>3</th>\n",
       "      <td>1000027_1</td>\n",
       "      <td>30628</td>\n",
       "      <td>2016-08-18</td>\n",
       "    </tr>\n",
       "    <tr>\n",
       "      <th>4</th>\n",
       "      <td>1000033_1</td>\n",
       "      <td>38677</td>\n",
       "      <td>2016-04-09</td>\n",
       "    </tr>\n",
       "  </tbody>\n",
       "</table>\n",
       "</div>"
      ],
      "text/plain": [
       "    utrip_id  city_id     checkin\n",
       "0  1000027_1     8183  2016-08-13\n",
       "1  1000027_1    15626  2016-08-14\n",
       "2  1000027_1    60902  2016-08-16\n",
       "3  1000027_1    30628  2016-08-18\n",
       "4  1000033_1    38677  2016-04-09"
      ]
     },
     "execution_count": 12,
     "metadata": {},
     "output_type": "execute_result"
    }
   ],
   "source": [
    "df.head()"
   ]
  },
  {
   "cell_type": "code",
   "execution_count": 13,
   "id": "9069b579",
   "metadata": {},
   "outputs": [
    {
     "name": "stdout",
     "output_type": "stream",
     "text": [
      "CPU times: user 3.23 s, sys: 164 ms, total: 3.39 s\n",
      "Wall time: 3.41 s\n"
     ]
    },
    {
     "data": {
      "text/plain": [
       "utrip_id\n",
       "1000027_1                         [8183, 15626, 60902, 30628]\n",
       "1000033_1                 [38677, 52089, 21328, 27485, 38677]\n",
       "1000045_1    [64876, 55128, 9608, 31817, 36170, 58178, 36063]\n",
       "1000083_1                        [55990, 14705, 35160, 36063]\n",
       "100008_1                    [11306, 12096, 6761, 6779, 65690]\n",
       "Name: city_id, dtype: object"
      ]
     },
     "execution_count": 13,
     "metadata": {},
     "output_type": "execute_result"
    }
   ],
   "source": [
    "%%time \n",
    "df_trip_cities = df.groupby('utrip_id')['city_id'].apply(list)\n",
    "df_trip_cities.head()"
   ]
  },
  {
   "cell_type": "code",
   "execution_count": 14,
   "id": "d345ad6a",
   "metadata": {},
   "outputs": [],
   "source": [
    "def generate_prev_next_cities(input_list):\n",
    "    output_lists = []\n",
    "    \n",
    "    for i in range(len(input_list) - 1):\n",
    "        for j in range(i + 2, len(input_list) + 1):\n",
    "            sublist = input_list[i:j]\n",
    "            output_lists.append(sublist)\n",
    "    \n",
    "    return output_lists"
   ]
  },
  {
   "cell_type": "code",
   "execution_count": 15,
   "id": "f2054fd7",
   "metadata": {},
   "outputs": [
    {
     "name": "stdout",
     "output_type": "stream",
     "text": [
      "[previous_cities], next_city\n",
      "[8183] 15626\n",
      "[8183, 15626] 60902\n",
      "[8183, 15626, 60902] 30628\n",
      "[15626] 60902\n",
      "[15626, 60902] 30628\n",
      "[60902] 30628\n"
     ]
    }
   ],
   "source": [
    "# Create records/rows with two columns, previous cities and the next city in each trip.\n",
    "# For the trip 1000027_1 with cities [8183, 15626, 60902, 30628], the ouput looks like below\n",
    "# In each list, the last value is the next city and all the values except the last are previous cities\n",
    "input_list = ['city1', 'city2', 'city3', 'city4', 'city5', 'city6']\n",
    "input_list = [8183, 15626, 60902, 30628]\n",
    "prev_next_cities = generate_prev_next_cities(input_list)\n",
    "print(\"[previous_cities], next_city\")\n",
    "for prev_next in prev_next_cities:\n",
    "    print(prev_next[:-1], prev_next[-1])"
   ]
  },
  {
   "cell_type": "code",
   "execution_count": 16,
   "id": "2d0e63f0",
   "metadata": {},
   "outputs": [
    {
     "name": "stderr",
     "output_type": "stream",
     "text": [
      "100%|███████████████████████████████| 217686/217686 [00:02<00:00, 105085.10it/s]"
     ]
    },
    {
     "name": "stdout",
     "output_type": "stream",
     "text": [
      "CPU times: user 2.01 s, sys: 179 ms, total: 2.19 s\n",
      "Wall time: 2.19 s\n"
     ]
    },
    {
     "name": "stderr",
     "output_type": "stream",
     "text": [
      "\n"
     ]
    }
   ],
   "source": [
    "%%time \n",
    "\n",
    "prev_next_cities_ll = []\n",
    "for trip_cities in tqdm(df_trip_cities.values):\n",
    "    prev_next_cities = generate_prev_next_cities(trip_cities)\n",
    "    prev_next_cities_ll.append(prev_next_cities)\n",
    "    \n",
    "prev_next_cities_ll = [item for sublist in prev_next_cities_ll for item in sublist]"
   ]
  },
  {
   "cell_type": "code",
   "execution_count": 17,
   "id": "5227f3f8",
   "metadata": {},
   "outputs": [
    {
     "data": {
      "text/html": [
       "<div>\n",
       "<style scoped>\n",
       "    .dataframe tbody tr th:only-of-type {\n",
       "        vertical-align: middle;\n",
       "    }\n",
       "\n",
       "    .dataframe tbody tr th {\n",
       "        vertical-align: top;\n",
       "    }\n",
       "\n",
       "    .dataframe thead th {\n",
       "        text-align: right;\n",
       "    }\n",
       "</style>\n",
       "<table border=\"1\" class=\"dataframe\">\n",
       "  <thead>\n",
       "    <tr style=\"text-align: right;\">\n",
       "      <th></th>\n",
       "      <th>trip</th>\n",
       "      <th>previous_cities</th>\n",
       "      <th>next_city</th>\n",
       "    </tr>\n",
       "  </thead>\n",
       "  <tbody>\n",
       "    <tr>\n",
       "      <th>0</th>\n",
       "      <td>[8183, 15626]</td>\n",
       "      <td>8183</td>\n",
       "      <td>15626</td>\n",
       "    </tr>\n",
       "    <tr>\n",
       "      <th>1</th>\n",
       "      <td>[8183, 15626, 60902]</td>\n",
       "      <td>8183, 15626</td>\n",
       "      <td>60902</td>\n",
       "    </tr>\n",
       "    <tr>\n",
       "      <th>2</th>\n",
       "      <td>[8183, 15626, 60902, 30628]</td>\n",
       "      <td>8183, 15626, 60902</td>\n",
       "      <td>30628</td>\n",
       "    </tr>\n",
       "    <tr>\n",
       "      <th>3</th>\n",
       "      <td>[15626, 60902]</td>\n",
       "      <td>15626</td>\n",
       "      <td>60902</td>\n",
       "    </tr>\n",
       "    <tr>\n",
       "      <th>4</th>\n",
       "      <td>[15626, 60902, 30628]</td>\n",
       "      <td>15626, 60902</td>\n",
       "      <td>30628</td>\n",
       "    </tr>\n",
       "  </tbody>\n",
       "</table>\n",
       "</div>"
      ],
      "text/plain": [
       "                          trip     previous_cities  next_city\n",
       "0                [8183, 15626]                8183      15626\n",
       "1         [8183, 15626, 60902]         8183, 15626      60902\n",
       "2  [8183, 15626, 60902, 30628]  8183, 15626, 60902      30628\n",
       "3               [15626, 60902]               15626      60902\n",
       "4        [15626, 60902, 30628]        15626, 60902      30628"
      ]
     },
     "execution_count": 17,
     "metadata": {},
     "output_type": "execute_result"
    }
   ],
   "source": [
    "prev_next_df = pd.DataFrame({'trip': prev_next_cities_ll}) \n",
    "\n",
    "prev_next_df['previous_cities'] = prev_next_df.apply(lambda row: row['trip'][:-1], axis=1)\n",
    "\n",
    "#prev_next_df['previous_cities'] = prev_next_df['previous_cities'].str.strip('[]') #join(',')\n",
    "\n",
    "prev_next_df['previous_cities'] = prev_next_df.apply(lambda row: str(row['previous_cities']).strip('[]'), axis=1)\n",
    "       \n",
    "prev_next_df['next_city'] = prev_next_df.apply(lambda row: row['trip'][-1], axis=1)\n",
    "\n",
    "prev_next_df.head()"
   ]
  },
  {
   "cell_type": "code",
   "execution_count": 18,
   "id": "97b31082",
   "metadata": {},
   "outputs": [
    {
     "data": {
      "text/html": [
       "<div>\n",
       "<style scoped>\n",
       "    .dataframe tbody tr th:only-of-type {\n",
       "        vertical-align: middle;\n",
       "    }\n",
       "\n",
       "    .dataframe tbody tr th {\n",
       "        vertical-align: top;\n",
       "    }\n",
       "\n",
       "    .dataframe thead th {\n",
       "        text-align: right;\n",
       "    }\n",
       "</style>\n",
       "<table border=\"1\" class=\"dataframe\">\n",
       "  <thead>\n",
       "    <tr style=\"text-align: right;\">\n",
       "      <th></th>\n",
       "      <th>trip</th>\n",
       "      <th>previous_cities</th>\n",
       "      <th>next_city</th>\n",
       "    </tr>\n",
       "  </thead>\n",
       "  <tbody>\n",
       "    <tr>\n",
       "      <th>2985426</th>\n",
       "      <td>[17944, 47075, 228]</td>\n",
       "      <td>17944, 47075</td>\n",
       "      <td>228</td>\n",
       "    </tr>\n",
       "    <tr>\n",
       "      <th>2985427</th>\n",
       "      <td>[17944, 47075, 228, 62930]</td>\n",
       "      <td>17944, 47075, 228</td>\n",
       "      <td>62930</td>\n",
       "    </tr>\n",
       "    <tr>\n",
       "      <th>2985428</th>\n",
       "      <td>[47075, 228]</td>\n",
       "      <td>47075</td>\n",
       "      <td>228</td>\n",
       "    </tr>\n",
       "    <tr>\n",
       "      <th>2985429</th>\n",
       "      <td>[47075, 228, 62930]</td>\n",
       "      <td>47075, 228</td>\n",
       "      <td>62930</td>\n",
       "    </tr>\n",
       "    <tr>\n",
       "      <th>2985430</th>\n",
       "      <td>[228, 62930]</td>\n",
       "      <td>228</td>\n",
       "      <td>62930</td>\n",
       "    </tr>\n",
       "  </tbody>\n",
       "</table>\n",
       "</div>"
      ],
      "text/plain": [
       "                               trip    previous_cities  next_city\n",
       "2985426         [17944, 47075, 228]       17944, 47075        228\n",
       "2985427  [17944, 47075, 228, 62930]  17944, 47075, 228      62930\n",
       "2985428                [47075, 228]              47075        228\n",
       "2985429         [47075, 228, 62930]         47075, 228      62930\n",
       "2985430                [228, 62930]                228      62930"
      ]
     },
     "execution_count": 18,
     "metadata": {},
     "output_type": "execute_result"
    }
   ],
   "source": [
    "prev_next_df.tail()"
   ]
  },
  {
   "cell_type": "code",
   "execution_count": 19,
   "id": "d7943fa6",
   "metadata": {},
   "outputs": [],
   "source": [
    "import requests\n",
    "model_id = \"sentence-transformers/all-MiniLM-L6-v2\"\n",
    "hf_token = \"\""
   ]
  },
  {
   "cell_type": "code",
   "execution_count": 20,
   "id": "57ca1bb7",
   "metadata": {},
   "outputs": [],
   "source": [
    "api_url = f\"https://api-inference.huggingface.co/pipeline/feature-extraction/{model_id}\"\n",
    "headers = {\"Authorization\": f\"Bearer {hf_token}\"}"
   ]
  },
  {
   "cell_type": "code",
   "execution_count": 21,
   "id": "f849a4d0",
   "metadata": {},
   "outputs": [],
   "source": [
    "def create_embds(texts):\n",
    "    response = requests.post(api_url, headers=headers, json={\"inputs\": texts, \"options\":{\"wait_for_model\":True}})\n",
    "    return response.json()"
   ]
  },
  {
   "cell_type": "code",
   "execution_count": 22,
   "id": "e8d4faeb",
   "metadata": {},
   "outputs": [],
   "source": [
    "# creating embeddings only for the first 100 records\n",
    "texts = list(prev_next_df[\"previous_cities\"].values[:100])\n",
    "embds = create_embds(texts)"
   ]
  },
  {
   "cell_type": "code",
   "execution_count": null,
   "id": "32ddc714",
   "metadata": {},
   "outputs": [],
   "source": []
  },
  {
   "cell_type": "code",
   "execution_count": 23,
   "id": "362b2a58",
   "metadata": {},
   "outputs": [
    {
     "name": "stdout",
     "output_type": "stream",
     "text": [
      "(100, 385)\n"
     ]
    },
    {
     "data": {
      "text/html": [
       "<div>\n",
       "<style scoped>\n",
       "    .dataframe tbody tr th:only-of-type {\n",
       "        vertical-align: middle;\n",
       "    }\n",
       "\n",
       "    .dataframe tbody tr th {\n",
       "        vertical-align: top;\n",
       "    }\n",
       "\n",
       "    .dataframe thead th {\n",
       "        text-align: right;\n",
       "    }\n",
       "</style>\n",
       "<table border=\"1\" class=\"dataframe\">\n",
       "  <thead>\n",
       "    <tr style=\"text-align: right;\">\n",
       "      <th></th>\n",
       "      <th>0</th>\n",
       "      <th>1</th>\n",
       "      <th>2</th>\n",
       "      <th>3</th>\n",
       "      <th>4</th>\n",
       "      <th>5</th>\n",
       "      <th>6</th>\n",
       "      <th>7</th>\n",
       "      <th>8</th>\n",
       "      <th>9</th>\n",
       "      <th>...</th>\n",
       "      <th>375</th>\n",
       "      <th>376</th>\n",
       "      <th>377</th>\n",
       "      <th>378</th>\n",
       "      <th>379</th>\n",
       "      <th>380</th>\n",
       "      <th>381</th>\n",
       "      <th>382</th>\n",
       "      <th>383</th>\n",
       "      <th>target</th>\n",
       "    </tr>\n",
       "  </thead>\n",
       "  <tbody>\n",
       "    <tr>\n",
       "      <th>0</th>\n",
       "      <td>-0.087536</td>\n",
       "      <td>0.012962</td>\n",
       "      <td>-0.054277</td>\n",
       "      <td>0.071328</td>\n",
       "      <td>-0.031723</td>\n",
       "      <td>-0.023091</td>\n",
       "      <td>0.004846</td>\n",
       "      <td>0.086497</td>\n",
       "      <td>0.002042</td>\n",
       "      <td>-0.120288</td>\n",
       "      <td>...</td>\n",
       "      <td>-0.059870</td>\n",
       "      <td>-0.055316</td>\n",
       "      <td>-0.034741</td>\n",
       "      <td>-0.001732</td>\n",
       "      <td>0.084464</td>\n",
       "      <td>0.075043</td>\n",
       "      <td>0.052253</td>\n",
       "      <td>-0.041033</td>\n",
       "      <td>-0.095299</td>\n",
       "      <td>15626</td>\n",
       "    </tr>\n",
       "    <tr>\n",
       "      <th>1</th>\n",
       "      <td>-0.023394</td>\n",
       "      <td>-0.021337</td>\n",
       "      <td>-0.042222</td>\n",
       "      <td>0.041100</td>\n",
       "      <td>-0.087723</td>\n",
       "      <td>-0.037878</td>\n",
       "      <td>-0.040731</td>\n",
       "      <td>-0.001650</td>\n",
       "      <td>0.053713</td>\n",
       "      <td>-0.115170</td>\n",
       "      <td>...</td>\n",
       "      <td>-0.019104</td>\n",
       "      <td>-0.072425</td>\n",
       "      <td>-0.018901</td>\n",
       "      <td>0.036811</td>\n",
       "      <td>0.045646</td>\n",
       "      <td>0.026298</td>\n",
       "      <td>0.042792</td>\n",
       "      <td>0.030901</td>\n",
       "      <td>-0.047055</td>\n",
       "      <td>60902</td>\n",
       "    </tr>\n",
       "    <tr>\n",
       "      <th>2</th>\n",
       "      <td>-0.024174</td>\n",
       "      <td>-0.007061</td>\n",
       "      <td>-0.043312</td>\n",
       "      <td>0.015833</td>\n",
       "      <td>-0.074283</td>\n",
       "      <td>-0.007714</td>\n",
       "      <td>-0.033722</td>\n",
       "      <td>0.022991</td>\n",
       "      <td>0.026141</td>\n",
       "      <td>-0.099314</td>\n",
       "      <td>...</td>\n",
       "      <td>-0.004968</td>\n",
       "      <td>-0.084713</td>\n",
       "      <td>-0.052688</td>\n",
       "      <td>0.026497</td>\n",
       "      <td>0.054743</td>\n",
       "      <td>0.037487</td>\n",
       "      <td>0.102648</td>\n",
       "      <td>0.043670</td>\n",
       "      <td>-0.059041</td>\n",
       "      <td>30628</td>\n",
       "    </tr>\n",
       "    <tr>\n",
       "      <th>3</th>\n",
       "      <td>-0.029118</td>\n",
       "      <td>0.015374</td>\n",
       "      <td>-0.069965</td>\n",
       "      <td>0.014509</td>\n",
       "      <td>-0.097234</td>\n",
       "      <td>0.003281</td>\n",
       "      <td>-0.048886</td>\n",
       "      <td>0.015815</td>\n",
       "      <td>0.028806</td>\n",
       "      <td>-0.083979</td>\n",
       "      <td>...</td>\n",
       "      <td>0.033824</td>\n",
       "      <td>0.015397</td>\n",
       "      <td>0.022432</td>\n",
       "      <td>-0.000587</td>\n",
       "      <td>-0.000909</td>\n",
       "      <td>0.083887</td>\n",
       "      <td>-0.004035</td>\n",
       "      <td>-0.018506</td>\n",
       "      <td>-0.037110</td>\n",
       "      <td>60902</td>\n",
       "    </tr>\n",
       "    <tr>\n",
       "      <th>4</th>\n",
       "      <td>-0.026712</td>\n",
       "      <td>0.020225</td>\n",
       "      <td>-0.029628</td>\n",
       "      <td>0.013419</td>\n",
       "      <td>-0.102775</td>\n",
       "      <td>0.009542</td>\n",
       "      <td>-0.065748</td>\n",
       "      <td>0.029631</td>\n",
       "      <td>0.009293</td>\n",
       "      <td>-0.077677</td>\n",
       "      <td>...</td>\n",
       "      <td>0.065270</td>\n",
       "      <td>-0.033991</td>\n",
       "      <td>-0.036413</td>\n",
       "      <td>0.001968</td>\n",
       "      <td>0.013815</td>\n",
       "      <td>0.020153</td>\n",
       "      <td>0.107023</td>\n",
       "      <td>0.002898</td>\n",
       "      <td>-0.039028</td>\n",
       "      <td>30628</td>\n",
       "    </tr>\n",
       "  </tbody>\n",
       "</table>\n",
       "<p>5 rows × 385 columns</p>\n",
       "</div>"
      ],
      "text/plain": [
       "          0         1         2         3         4         5         6  \\\n",
       "0 -0.087536  0.012962 -0.054277  0.071328 -0.031723 -0.023091  0.004846   \n",
       "1 -0.023394 -0.021337 -0.042222  0.041100 -0.087723 -0.037878 -0.040731   \n",
       "2 -0.024174 -0.007061 -0.043312  0.015833 -0.074283 -0.007714 -0.033722   \n",
       "3 -0.029118  0.015374 -0.069965  0.014509 -0.097234  0.003281 -0.048886   \n",
       "4 -0.026712  0.020225 -0.029628  0.013419 -0.102775  0.009542 -0.065748   \n",
       "\n",
       "          7         8         9  ...       375       376       377       378  \\\n",
       "0  0.086497  0.002042 -0.120288  ... -0.059870 -0.055316 -0.034741 -0.001732   \n",
       "1 -0.001650  0.053713 -0.115170  ... -0.019104 -0.072425 -0.018901  0.036811   \n",
       "2  0.022991  0.026141 -0.099314  ... -0.004968 -0.084713 -0.052688  0.026497   \n",
       "3  0.015815  0.028806 -0.083979  ...  0.033824  0.015397  0.022432 -0.000587   \n",
       "4  0.029631  0.009293 -0.077677  ...  0.065270 -0.033991 -0.036413  0.001968   \n",
       "\n",
       "        379       380       381       382       383  target  \n",
       "0  0.084464  0.075043  0.052253 -0.041033 -0.095299   15626  \n",
       "1  0.045646  0.026298  0.042792  0.030901 -0.047055   60902  \n",
       "2  0.054743  0.037487  0.102648  0.043670 -0.059041   30628  \n",
       "3 -0.000909  0.083887 -0.004035 -0.018506 -0.037110   60902  \n",
       "4  0.013815  0.020153  0.107023  0.002898 -0.039028   30628  \n",
       "\n",
       "[5 rows x 385 columns]"
      ]
     },
     "execution_count": 23,
     "metadata": {},
     "output_type": "execute_result"
    }
   ],
   "source": [
    "embds_df = pd.DataFrame(embds)\n",
    "embds_df['target'] = prev_next_df['next_city'].values[:100]\n",
    "print(embds_df.shape)\n",
    "embds_df.head()"
   ]
  },
  {
   "cell_type": "markdown",
   "id": "f6533997",
   "metadata": {},
   "source": [
    "The first 384 columns are embedding features and the 385th column is the target (next city in the trip of historical data)"
   ]
  },
  {
   "cell_type": "code",
   "execution_count": null,
   "id": "2a9bb00a",
   "metadata": {},
   "outputs": [],
   "source": []
  },
  {
   "cell_type": "code",
   "execution_count": null,
   "id": "4dcb21c9",
   "metadata": {},
   "outputs": [],
   "source": []
  }
 ],
 "metadata": {
  "kernelspec": {
   "display_name": "Python 3 (ipykernel)",
   "language": "python",
   "name": "python3"
  },
  "language_info": {
   "codemirror_mode": {
    "name": "ipython",
    "version": 3
   },
   "file_extension": ".py",
   "mimetype": "text/x-python",
   "name": "python",
   "nbconvert_exporter": "python",
   "pygments_lexer": "ipython3",
   "version": "3.11.5"
  },
  "toc": {
   "base_numbering": 1,
   "nav_menu": {},
   "number_sections": true,
   "sideBar": true,
   "skip_h1_title": false,
   "title_cell": "Table of Contents",
   "title_sidebar": "Contents",
   "toc_cell": false,
   "toc_position": {},
   "toc_section_display": true,
   "toc_window_display": false
  }
 },
 "nbformat": 4,
 "nbformat_minor": 5
}
