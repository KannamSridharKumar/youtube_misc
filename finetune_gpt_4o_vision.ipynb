{
 "cells": [
  {
   "cell_type": "markdown",
   "id": "79312819",
   "metadata": {},
   "source": [
    "### Finetune GPT-4o Vision"
   ]
  },
  {
   "cell_type": "markdown",
   "id": "969cf082",
   "metadata": {},
   "source": [
    "**Steps:**\n",
    "1. Use the pre-trained model\n",
    "2. Prepare training data\n",
    "3. Finetune the pre-trained model\n",
    "4. Use the fine-tuned model"
   ]
  },
  {
   "cell_type": "markdown",
   "id": "479b38e9-875f-435a-a2d3-7d33799792ee",
   "metadata": {},
   "source": [
    "### 1. Use the pre-trained model"
   ]
  },
  {
   "cell_type": "code",
   "execution_count": 1,
   "id": "26639e9e-483c-4a10-a0d1-453601c4b2ef",
   "metadata": {},
   "outputs": [],
   "source": [
    "from openai import OpenAI\n",
    "client = OpenAI()"
   ]
  },
  {
   "cell_type": "code",
   "execution_count": 93,
   "id": "e6eea2fb-a8bc-4e02-9a74-5849860df164",
   "metadata": {},
   "outputs": [
    {
     "data": {
      "text/plain": [
       "'https://images.pickles.com.au/image/upload/f_auto,q_auto,w_2000/c_scale,g_south_east,l_pickles-logo-white_mipoap.png,o_60,w_0.4,fl_relative,x_0.02,y_0.02,fl_region_relative/v1726789702/asostfbejshw7ekod5xa.jpg'"
      ]
     },
     "execution_count": 93,
     "metadata": {},
     "output_type": "execute_result"
    }
   ],
   "source": [
    "image_url=\"https://images.pickles.com.au/image/upload/f_auto,q_auto,w_2000/c_scale,g_south_east,l_pickles-logo-white_mipoap.png,o_60,w_0.4,fl_relative,x_0.02,y_0.02,fl_region_relative/v1726789702/asostfbejshw7ekod5xa.jpg\"\n",
    "image_url"
   ]
  },
  {
   "cell_type": "code",
   "execution_count": 3,
   "id": "8625944c-7f66-4929-b1ae-12d65b821438",
   "metadata": {},
   "outputs": [
    {
     "name": "stdout",
     "output_type": "stream",
     "text": [
      "Choice(finish_reason='stop', index=0, logprobs=None, message=ChatCompletionMessage(content='The image shows a grey sports car with significant front-end damage parked on a wet surface.', role='assistant', function_call=None, tool_calls=None, refusal=None))\n"
     ]
    }
   ],
   "source": [
    "response = client.chat.completions.create(\n",
    "  model=\"gpt-4o-mini\",\n",
    "  messages=[\n",
    "    {\n",
    "      \"role\": \"user\",\n",
    "      \"content\": [\n",
    "        {\"type\": \"text\", \"text\": \"What’s in this image, answer in one senetence?\"},\n",
    "        {\n",
    "          \"type\": \"image_url\",\n",
    "          \"image_url\": {\n",
    "            \"url\": image_url,\n",
    "          },\n",
    "        },\n",
    "      ],\n",
    "    }\n",
    "  ],\n",
    "  max_tokens=100,\n",
    ")\n",
    "\n",
    "print(response.choices[0])"
   ]
  },
  {
   "cell_type": "code",
   "execution_count": 13,
   "id": "6f56c1ad-3e8b-4e45-a0b2-8f5e351688f0",
   "metadata": {},
   "outputs": [],
   "source": [
    "image_path = \"car_damage/bumper_dent--minor--0001.jpeg\""
   ]
  },
  {
   "cell_type": "code",
   "execution_count": 14,
   "id": "d3a0b2b6-a953-4607-ad39-46c65f389d14",
   "metadata": {},
   "outputs": [
    {
     "name": "stdout",
     "output_type": "stream",
     "text": [
      "Choice(finish_reason='stop', index=0, logprobs=None, message=ChatCompletionMessage(content='The image shows the rear damage of a dark-colored car, likely due to a collision.', role='assistant', function_call=None, tool_calls=None, refusal=None))\n"
     ]
    }
   ],
   "source": [
    "import base64\n",
    "\n",
    "def encode_image(image_path):\n",
    "  with open(image_path, \"rb\") as image_file:\n",
    "    return base64.b64encode(image_file.read()).decode('utf-8')\n",
    "\n",
    "base64_image = encode_image(image_path)\n",
    "image_url  = f\"data:image/jpeg;base64,{base64_image}\"\n",
    "\n",
    "response = client.chat.completions.create(\n",
    "  model=\"gpt-4o-mini\",\n",
    "  messages=[\n",
    "    {\n",
    "      \"role\": \"user\",\n",
    "      \"content\": [\n",
    "        {\"type\": \"text\", \"text\": \"What’s in this image, answer in one senetence?\"},\n",
    "        {\n",
    "          \"type\": \"image_url\",\n",
    "          \"image_url\": {\n",
    "            \"url\": image_url,\n",
    "          },\n",
    "        },\n",
    "      ],\n",
    "    }\n",
    "  ],\n",
    "  max_tokens=100,\n",
    ")\n",
    "\n",
    "print(response.choices[0])"
   ]
  },
  {
   "cell_type": "markdown",
   "id": "055f4ec1",
   "metadata": {},
   "source": [
    "### 2. Prepare training data"
   ]
  },
  {
   "cell_type": "markdown",
   "id": "578493be-9bc9-4b8f-857a-c12d1c9e9ece",
   "metadata": {},
   "source": [
    "#### Usecase\n",
    "Automobile insurace company - Automatic damage detection & asssessment\n",
    "- damaged_part\n",
    "- damage_type\n",
    "- damage_severity"
   ]
  },
  {
   "cell_type": "code",
   "execution_count": null,
   "id": "0eb4e951-4254-4649-9500-919c1ef68f11",
   "metadata": {},
   "outputs": [],
   "source": [
    "{\n",
    "  \"messages\": [\n",
    "    { \"role\": \"system\", \n",
    "     \"content\": \"You are an assistant that identifies which part of the car is damaged and the severity level of the damage\" },\n",
    "    { \"role\": \"user\", \n",
    "     \"content\": \"Identify which part of the car is damaged and the severity level of the damage.\"},\n",
    "    { \"role\": \"user\", \n",
    "     \"content\": [\n",
    "        {\n",
    "          \"type\": \"image_url\",\n",
    "          \"image_url\": {\n",
    "            \"url\": image_url\n",
    "          }\n",
    "        }\n",
    "      ] \n",
    "    },\n",
    "    { \"role\": \"assistant\", \"content\": \"doors\" }\n",
    "  ]\n",
    "}\n"
   ]
  },
  {
   "cell_type": "code",
   "execution_count": null,
   "id": "dc62f4e6-5a2e-417a-8326-cf5f78cb38cb",
   "metadata": {},
   "outputs": [],
   "source": []
  },
  {
   "cell_type": "code",
   "execution_count": 95,
   "id": "acc1308e-b506-421a-a79f-f65c5f18107b",
   "metadata": {},
   "outputs": [],
   "source": [
    "from pydantic import BaseModel\n",
    "\n",
    "class damage_output(BaseModel):\n",
    "    damaged_part: str\n",
    "    damge_type: str\n",
    "    damage_severity: str"
   ]
  },
  {
   "cell_type": "code",
   "execution_count": 96,
   "id": "0935abe7-e9af-4cd7-abfa-bbce310500a5",
   "metadata": {},
   "outputs": [],
   "source": [
    "import glob\n",
    "import json\n",
    "\n",
    "with open(\"car_damage_train.jsonl\", \"w\") as fp:    \n",
    "    for image_path in glob.iglob('car_damage/*'):\n",
    "        base64_image = encode_image(image_path)\n",
    "        image_url  = f\"data:image/jpeg;base64,{base64_image}\"\n",
    "\n",
    "        ground_truth = image_path.split(\"/\")[-1][:-11].split(\"--\")\n",
    "        ground_truth = {\"damaged_part\": ground_truth[0], \"damage_type\": ground_truth[1], \"damage_severity\": ground_truth[2]}\n",
    "\n",
    "        #image_url=\"https://images.pickles.com.au/image/upload/f_auto,q_auto,w_2000/c_scale,g_south_east,l_pickles-logo-white_mipoap.png,o_60,w_0.4,fl_relative,x_0.02,y_0.02,fl_region_relative/v1726789702/asostfbejshw7ekod5xa.jpg\"\n",
    "        \n",
    "        example = {\n",
    "          \"messages\": [\n",
    "            { \"role\": \"system\", \n",
    "             \"content\": \"You are an assistant that identifies which part of the car is damaged, damage type and the severity level of the damage\" },\n",
    "            { \"role\": \"user\", \n",
    "             \"content\": \"Identify which part of the car is damaged and the severity level of the damage. \\\n",
    "                        Possible values for the damaged parts are: [bumper, door, glass] \\\n",
    "                        Possible values for the damage types are: [dent, scratch, shatter] \\\n",
    "                        Possible values for the severity level are: [minor, major] \\\n",
    "                        \"},\n",
    "            { \"role\": \"user\", \n",
    "             \"content\": [\n",
    "                {\n",
    "                  \"type\": \"image_url\",\n",
    "                  \"image_url\": {\n",
    "                    \"url\": image_url\n",
    "                  }\n",
    "                }\n",
    "              ] \n",
    "            },\n",
    "            { \"role\": \"assistant\", \"content\": f\"{ground_truth}\" }\n",
    "          ],\n",
    "            #response_format=damage_output,\n",
    "        }\n",
    "\n",
    "        example_str = json.dumps(example)  \n",
    "        fp.write(example_str + \"\\n\")"
   ]
  },
  {
   "cell_type": "code",
   "execution_count": null,
   "id": "3a911e2b-4f97-4d02-8262-9c4c96cd9666",
   "metadata": {},
   "outputs": [],
   "source": []
  },
  {
   "cell_type": "code",
   "execution_count": null,
   "id": "e9f312a5-0b9c-4a1f-806d-b4b2227591d7",
   "metadata": {},
   "outputs": [],
   "source": []
  },
  {
   "cell_type": "code",
   "execution_count": null,
   "id": "53282a2b",
   "metadata": {},
   "outputs": [],
   "source": []
  },
  {
   "cell_type": "code",
   "execution_count": null,
   "id": "c6218a0c",
   "metadata": {},
   "outputs": [],
   "source": []
  },
  {
   "cell_type": "code",
   "execution_count": null,
   "id": "c31dba8e",
   "metadata": {},
   "outputs": [],
   "source": []
  },
  {
   "cell_type": "code",
   "execution_count": null,
   "id": "f9389975",
   "metadata": {},
   "outputs": [],
   "source": []
  },
  {
   "cell_type": "code",
   "execution_count": null,
   "id": "705bd59f",
   "metadata": {},
   "outputs": [],
   "source": []
  },
  {
   "cell_type": "code",
   "execution_count": 72,
   "id": "cbb8992f",
   "metadata": {},
   "outputs": [
    {
     "name": "stdout",
     "output_type": "stream",
     "text": [
      "{\"messages\": [{\"role\": \"system\", \"content\": \"You are an assistant that identifies which part of the car is damaged, damage type and the severity level of the damage\"}, {\"role\": \"user\", \"content\": \"Identify which part of the car is damaged and the severity level of the damage.                         Possible values for the damaged parts are: [bumper, door, glass]                         Possible values for the damage types are: [dent, scratch, shatter]                         Possible values for the severity level are: [minor, major]                         \"}, {\"role\": \"user\", \"content\": [{\"type\": \"image_url\", \"image_url\": {\"url\": \"data:image/jpeg;base64,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\"}}]}, {\"role\": \"assistant\", \"content\": \"{'damaged_part': 'door', 'damage_type': 'scratch', 'damage_severity': 'minor'}\"}]}\n"
     ]
    }
   ],
   "source": [
    "!head -n 1 car_damage_train.jsonl"
   ]
  },
  {
   "cell_type": "code",
   "execution_count": 73,
   "id": "d48b88bf",
   "metadata": {},
   "outputs": [
    {
     "name": "stdout",
     "output_type": "stream",
     "text": [
      "{\"messages\": [{\"role\": \"system\", \"content\": \"You are an assistant that identifies which part of the car is damaged, damage type and the severity level of the damage\"}, {\"role\": \"user\", \"content\": \"Identify which part of the car is damaged and the severity level of the damage.                         Possible values for the damaged parts are: [bumper, door, glass]                         Possible values for the damage types are: [dent, scratch, shatter]                         Possible values for the severity level are: [minor, major]                         \"}, {\"role\": \"user\", \"content\": [{\"type\": \"image_url\", \"image_url\": {\"url\": \"data:image/jpeg;base64,/9j/4AAQSkZJRgABAQAAAQABAAD/2wBDAAgGBgcGBQgHBwcJCQgKDBQNDAsLDBkSEw8UHRofHh0aHBwgJC4nICIsIxwcKDcpLDAxNDQ0Hyc5PTgyPC4zNDL/2wBDAQkJCQwLDBgNDRgyIRwhMjIyMjIyMjIyMjIyMjIyMjIyMjIyMjIyMjIyMjIyMjIyMjIyMjIyMjIyMjIyMjIyMjL/wAARCADgAOADASIAAhEBAxEB/8QAHwAAAQUBAQEBAQEAAAAAAAAAAAECAwQFBgcICQoL/8QAtRAAAgEDAwIEAwUFBAQAAAF9AQIDAAQRBRIhMUEGE1FhByJxFDKBkaEII0KxwRVS0fAkM2JyggkKFhcYGRolJicoKSo0NTY3ODk6Q0RFRkdISUpTVFVWV1hZWmNkZWZnaGlqc3R1dnd4eXqDhIWGh4iJipKTlJWWl5iZmqKjpKWmp6ipqrKztLW2t7i5usLDxMXGx8jJytLT1NXW19jZ2uHi4+Tl5ufo6erx8vP09fb3+Pn6/8QAHwEAAwEBAQEBAQEBAQAAAAAAAAECAwQFBgcICQoL/8QAtREAAgECBAQDBAcFBAQAAQJ3AAECAxEEBSExBhJBUQdhcRMiMoEIFEKRobHBCSMzUvAVYnLRChYkNOEl8RcYGRomJygpKjU2Nzg5OkNERUZHSElKU1RVVldYWVpjZGVmZ2hpanN0dXZ3eHl6goOEhYaHiImKkpOUlZaXmJmaoqOkpaanqKmqsrO0tba3uLm6wsPExcbHyMnK0tPU1dbX2Nna4uPk5ebn6Onq8vP09fb3+Pn6/9oADAMBAAIRAxEAPwDnNGvBNbtFkkpxyMcVpHHfFUBaRxXf2hQRIfvvn73Xt0ySck+3uathiRxn8qEIgltY3k8wApKP40JVvzFU5beRZVkdFm2HcrbRkHrnbwDk4zjacDvWiXwBxx0qMkUmgOYu9KeFWljJkQLkhiQwAHX09OOvOBnGa2tE8cX+jobW6jN3ErHliRInqDn3Pf6Z4qywDA4JB9RVGfT4JypdQCuACnG0cdPTp9OScZo1QaM9V8N/EWC8iQpNvQDaYpSA6dAMdeOnqK7yx1Gx1NP3EiscnMZwGH1Xr36jI+lfKd1pdxAN0amQcD5Ryen58nA78ZwKuaR4w1LSQNj+YUx5ZYnKEdMEc/8A6hRe4WPpjWwbPSZbi1MTTMAlukpO15XIWNSR2Lsoz70iaUljaxW0MZEEKLGi5JKqBgDJ56DvXn/hn4iSeIJLETbkFrco1ydoPmAxy7crkA4fYc8HKjrXq8F7b3kaPuTD8K6nKk4zjPrz0ODTuOxgy23BKjI/lVKSFGVo5Iw8bDDKwyCK6m4sc5aPr6VlS2uSexqlIlo599BKx79KuDbsP+WT5eNuvHPI7dOB6VmySSWMpa+tpbKVDkXMZ+TrgHcOBk+uDyK6xVaI5FTEpImGUEHsaA9TJsfE2o2uPMZL+3x1HDgfUf1FdHZa/pupr5aTiKQnHlTYViSeMev4Vyt14Wi3+dpk7WT8fIq7oz0/h4x+BHXPNYt89zYsV1ay/d9rmH5k/E44/EfjUtDPS5LWQLxzj0qPyrhTkK1cZpmv39nGptLtbuDAxFKc4HHQ9Rx+HtXS6f4vsbpxFdK1nMf+ehyn/fX+OKlx7CsjQ8+eP7wOPcVIl3G4xIMGpyxZQSqyRsMgrzx61Xks0l5icD2qQsPZUccEEVVmtu/I+tMZZrdsEH69jTvtO4YbIoJZWaPbxkg1ga3rENldRWzSqNimaY5BGOiqQRzknP8AwGupZQ8Ejqu/YpbA614wt23iDVIrWU/NcyfaWzjmJc7QD+PI6ZU881SYRieiR3kl5AjhW2uARkYI9jVWcSpzhl+orpbbTIG0/IYDHAJ6VTltvIPBDqex5rRVC3E5wzSjuT9KBfSKcbvzq7d2MUvKZRv9msC58+2ZvN+4CcM/Qj69vxrVSuQ0cZqNrJp95JbTD50OPZvcVWWQc5Nb4jj1vSTE6hdQt1+T58lgOqHGQSOR/wDWFcuS0cgGM89a57llp5RjqMDriomcEnsT3NTPhhyoIPqOKhaJc554GAAf6UwGF++aQv2NRtE6j5ZM4HORUJ85MAqGGKALG/nIqjeafb3S8oFYAAEcY6f0GO45JxmpPNUH5iVPpS+ZnkHNAHPXFne2MmyNyYmTcShxnGO2e2T/ADrv/CfxKltPl1SZo5QMC5RMhl9HUdfy/lzhrtZweCcEc+hq5rXw71qyslvn02W3jkK4yy4+Y8DAJKnkDBA70hnuWieMLO9hibzYgjttDo2YuvY8levTkcdq6QrDdqCOGIz26evv9RXyTpN/qmgXpMJdVxukiOdrKASSR7DJz2616/4U8ZS3CeVbzw795X7K0odWIXJ2OOM4YHCnPrQB6TcWMi9RuX1FZ8iPC3zDj1q/pviG1vpBCzGGc/8ALKUYOfY9COeO/HSr8tvDdIduN3f2PuKdwMRHzyp5qUYkBGOe4plxYvAxIGP5GoBKyHng0xGPqnhO2nd57MmzuTk74hwTz95eh5OSeDx1rCuU1LTVIv7YXVuM/vYASQM8ZHUcY6ZHXmu+juUcYcYPrTJoY5AcYyf1oA4nS9WeMebpGomMHkoWBU8eh4NdTa+MoyBHqto0T5A8yEZXr1weRjjpmsfUvDFlczNOI2guG6zQnaT05I6HoOoNYUttrWm4WRFv7YLkugAYY9VP9PyoavuI9bsry2vofMtriOeLHVTkj2I7H2NOktYpAcDBryGz1K3ebzLO4e1ukJUgEqynkEHuOh611Nl4x1C1YDUYVuYSf9agCsBn24P04+tS4dh+p0TrPDfwwwAlxl29MYIGfbqKx73wRayak+saTHHbXcwKzwscIxB5IwDg8fQ+xzmO9+IOl2Op20hL/ZJIirsUO5JDkgH2+U9M9a6mOVtQeKe3uF+zAZIAyWPrn09x1znNJaDRz32y8tbX+z5wEbbkqw55P+OeRxxVU3zrhCeldjexW00Hl3SK6scAEcg4PIPUHGeRWFqHhjzg0lhMoyOI3PHboR26nv1p7AZTXKNEWYHI/u96w5buyLnyZ9jliWQx49SSw45+vtxzSatFf6KPMuopY4jyzORtUZwPmHGScYBPNY017FdL5bocH8voQf8ACqTJZkw3ky3wuFySpAZd+QMD0z0IGD+vWqmvxRpdCeE4SYb8Z6Hv/n61POA6W+p21u8NteqZFjDE4+Yoy5PBwVJGT0IJ5qC6RpLIQl/NMf3HHO/0PGBz+XJqEMZptpLqEb+SULoM7ScE/SoLiGSGV45VKsMZU9ah0q8aB7gJIySGLClSQc7lPb2Brdj1CHUI0tdQXDAYW4UYK4/z/wDW707sZzzMOqnI4BOelRyZ6n+VXdS0y4skaQ5lg+8sy9Dn15/KstpSIgoBLH8Dj6UXuA5mymPl9+KgKhehK0rAgA9AOcY6VGXOT1X6UxFuwvZLDUre5CiTyZUk25xuwc4/SvoPQtcsNRtYoRcCe1nx5Wc5U4J2HuMbTwenuCMfNok/eNyeg/nWtoniG80K5MtpINrDDxt0Yev1HY/0JBQzW+Nfhi803UoLyxsAmitEAs0IyA+TkNjp1GPUYweMDyq1u7iwnE1tK8UnTKn3B/mAfqBX074Y+IGm63A+nXaKWeMia2mGQ6sMHAIwy9QcfiOaxPEXwT0XxBPJfeHb5NPdslrZkLx7s9ucqOvqPTFO4WOP0f4gPMIodWIlhcAo7fKw65+b/wCtXqOkeKQyoILv7XEvBVuJ0X0B6MPrnp27eU6r8PdU8OaTBFqEJk2F2VkGQF6nnkE9SV9ADzhtvNoZ7Kcy2wZV67oTyD6lDwewwMUuXsFz6ptdVt763Z1KyxgZbA+aP/eXt35HHFEunwzqWgYEegNeC6d4zkhiSSeRo2RQRKM4zjnBHK+2fUda7jRPiRb3WP7QbBBUG7gHKk54dRwejdOSB0o1QaM66a1kgJ64FJFKCdrir8GpQ3drHPviuLaT7tzCdyn2I7GkmsY5V8yFgQfShS7hYrSW7Fcr8y1nTQsvQfhWnEz27bWBxVh1huFyMA1VxWOI1LSLLUMtNEBKBgSp8rr16H8enSsV7DU9PfNpMt1B3jl4ft36H+I9u3Wu9u7EcnH4isW4t2Qmr0Ytjz7WruK+tSPIMNxENzxOpDAHHOD/AJ5qHw3411bwz8tpILqwJJ8iUk+X3JGOh689OckdK7K9tYrqIxTxhhzgkcqcYyPQ4JryvXNHvdCujINxgZsJKo4PsfQ1MojTPdtF8a6H4rkt907W94ucW7vhiepCno3QDjB9q7WNYcFU7dRnnivkVNQinP75Skv/AD1Tv9R3rrdD8ba3oceyC5+3WY5WGT51HsAeVHHQEDnvWdrDuey2+p6hPfzJNB5iO+5BFlhsGAOv3cj26nkgVk6r4IsrsNcQWctjd7vlMDABs9QEIx7k4ycdRWd4d+MWjXUvkXyvYMTx5p8xTx/eABBzjqMD1ru5NQjvrUXFvNGUaMmGVZAyE45ZWHHTgHPc0vUb1PP9W0iG+M1vbW6hbaEgjsNuSwxz1Ytx6mvPFmf7VLDI26XnJI5z23HJ5I57CvXdRsktVv71zHLBcBvJkSQ7dzH7pxkEgZOc9V56143rsq/aFuoQcK7oT1IZW+Xj1PX6U0JkF0n2W4jvEUGFmBI7Z7rx0HB49CKuyIY2kicjKcZJ6jsfyxVcahJZSBovmic7tjHHBGcj0PBFLJdG5uDcEbN2MAHOOMfjQBbtNYn0+VoziWADPlOTgepBPTqalu7C01WNrrS2MUgJ3wucH149P5Vmf6wrgZHXA4qIO9uxZC6sBlWXggY+nHUCgCnOk9vI0bxlJM/xD6/5zUW5iu0YJyP4f8K6FdVttRhFrqKKjqNqzrgAZ4/4D/L2rMvtKktWMke+WA5YP14469sYPWi/cdjNDAsTjgimbsHBbgdSKceFHykY9Ka3DcDr688/4UxHb/DzX9PstQWy1Ty0jkbMVw+MIxGCrE9FPr0Hfgkj0/XjaWVsk8XmQyZy6Lkps4JcHsAMHjrgY5xXzxnOSccds1YbUbt7RLRrub7OpJWMyHYuevHSk1cE7Ho+rfEcXOgXkcN0ztL8vlTrgqSAFK4+7tK7gVxg9e1eax3c00heVVVmO5yigAE+ijt7Cq5HuMeopYBM90kduu6ZzsUDGWJ4xTSsO9za2RyCKXypRIuCcFl37wOCAcjIwB/eHoRimRW4sZSxyYEByYSSsisAQCo5GevHIxnqOK7XkTw7rc7AxIdfmIUE5VC2cEcZ7c59BjbF1E85gvI5rfyoiJC3z4Yg5YYIGOhGeu5jnPNF+4rFbRfFmqeGbx5rSa4FlIMoSgAlUZADA5B6twckYPpXsfh3xzpeuRRlLhLS7b+HBET9unJHf24614Scb3RZFgnQ7sheWxwRt7jHP4cHrms0t7YNLeNIVdcBVhjwG9zjG0Yzk9ScdckhNdgR9TvIrBfPURswypzlWHselQtG0ZyOR7V5L4H+I8kkJs5pYz83+qmOQ/0B5Hfoewr1Gy1G1v1H2OYRS9Ps0z8H2Vv6UXsMteZkYPNVLi3VwcAVYYjeUZTHJ/ccY/KmEY4PBqkyWYNzZlc4X8K5/WrKSfSruKGNZJHiYKjdGOOnNdxLEHHIrKurQcnFaJk2PmZ7kCRo50McgYgnHAOe4qSK5eMB4pDj1U12XxF8HyQXMmsWaExSHM6KPuN/e+h7+/14833NG2QSp6cVDVhnQfbYpwRcxgsf+Wi8N9at6dqOp6VIZND1aeDcQTGshXdzxuH3Wx71zK3Z6SL+I/wqZJgSCrfl1pNDPrKws9PfS10VJI7m3l3xCZY8B8IcsMZ6dM55ORxivL/HPg46FZtdRyrLZXGJElXgKwHJBH95AMfQ16xe3X9kalby2SobKVA22MDYVJJbb275+prP+ItpBP4GnurdV8uKSO4XbwMlgpOPoxzUobPAdNBv1S2DKrhsIXO0AHkZJ9xjJ45q60T2zMskbRui42yKc5Prnp61zsN19jvUdyww/ly7+cZ5B/A4/KvQ4Xs9asvJddkyLlAq5ZMHJ2c8qecr2JJHfIBzLSYxwPlPHQY/Xrn+lBIlyCxJBx9T+P4VLf2slnP5cpBDDcjrykgJwCv5fhjBwQQKzlhGcY+p/lk9KAI3GHU7OTjgev0FT2OqTWMhVXURtwUYdOeo9Ov61GJVkXZIxwvdSePwqvIVOSAGGOoHAOBSGXLyGC/uU/syE7nRmki4XGMc44GPmFZbxPHIY3RkcHlWHI/zmnRTyWlwZYHKvtKEnDZBIPcY/hrX+2W+sRm2uwlvNyVkAAUH8fr3PP1o1QbmBtVcdBnqPTBo4+bAGcVav9Pns3O4M0WchgMfTIPT8fQ+lUgzL83BAI6nAp3EIxwcAEjqKs2CxG4IkkKfLhZFJHltuAVs+gOCcds1S3HJz+NWbSW3iFx59q8+YiqnOFRuNrH170wNH7VJf3f2t7aOSdyZNgjOyXbyRjsQOP8AdOfvdWWtwG1KWIvHLaqsgBMewtGFP93nG0dqbpIhu7mJZrWSK2klSEPBnAkJ75b+7uH49Kab9IVaUW4N1IpxKpYFFwRwOm7kgk5+765NAFuSea1l+zeWrNDGVRWTadzAA7wfVecevUcsKozz3towla6W5Vckq8iuyZJzkZP1yM9R3p0rJfWSTWxWN7VWBRjgiIcr83Ck8noASex5qjcRuU/0hHDqdr5UhlPbJPHP1zwaVhkstvbyrHLcWsto7hhHIuVEjDnPPXGRnGOorRtPE+taN5Ze6e4G458wZUDt83XuOMcds1gFZIiJAxZVPDr1H170+G6lt415jkQ547g5B59fx/CgLHuPhf4j2+q2aW9yqShQB5UjYdTz9xupHHvwO1dxbSJeQmSwmFwgyTC/Eqj+o6V8uwyW8jBoz5DNxhvuk59fpXR6N4v1TRbgeeHmi3BxJu+cdMEN3/H86BHv6usoO3qOqngio5EDA1xem/FPRr0LBq/mAqoK3BIR19sk4boO/c9a6+C5hu7T7XZ3MV9an/lrB95R/tL245qlITRQvtPiuYniljV43GCrDINeSeIvhfN5tzcaa8axjLpEx6+2e38unNe0yBZY9yYde4HUfhWNcJLYpmOUyRngJPubB95OSo92Bq9yT5huLaW2meOVGSRThlZcEGoDXv8Ar+gaHeWouri2hHmgsjI/yuzdCDkA565BBOO9eXaj4Ml2efYM+xgpENzgMC3QBx8jeucqfbkZTQH0Ho15FrugQ2ro7TxHbbjdg4J+ZTn+7j8gMdKyNcvtStvDesWTxPNZfZnRsKCsMqn+9nocjgZxjPesjUp59E1M3kAK2lw4LhCQFk65U9j+J5HXkVW8Y+Lpr3w55D3P7sB1CINpkZuMtjrwT7c5xkDGNzRnkOpli86kY+bfn1BPH+FbXhvVJb2Rbc3Dfb15iz96UjsD/e9u/PUkA4F/IzNKzIUBAA4PzAE81lglW3KSCDwR1FVYR7NZXdpq6CC7jVpixOwHZvYjG5G/hf1HQ4GRxxz+q6fJYXH3xNbsWEcoGM46gg8qeQCD7dRg1laRrY1RxDezpHeMcLIx2iQ+rHoCfX15Pc12NjqS3xe0v1jM7AIRKMLNjoH9HHZh7j6rYZyTN1wQSF7Hj+dRlwcx7gU6dK1tZ0eSzczQl3tSdpz96Jv7j+/oejDkdwMSVsYXjvhvT1pgMuFKhAq/uy/JHUcH/wCtTXUsituIyOCwzkZ6+3NSmYrH8oZl6gE4B9vpUEqlcfMOOQFH9f8AGgDSttalgRIpXEkRG0h+SFPYevB6H6U+bSYLm2M9lN5jAk7QuBznAxwQf8e1ZHJzsG0jGT6GnRTSwuGhfDYIPGc+1K3YLkc0csEhSVRGwIBU/wBKMyLEXbcYd2drHAZu31xn9e2a1heWupJHb3SCKVCdrK4A59+g+n5elU9R02a1c7iHiXgHOdo9D6U7gR2VzNHqdtMXy4kQtlQAFyBwD7H8qrvKWnEscm1jyzPzyeCScnOep9yRio3JEm4DDZ4wcc9v/wBVI+cbWOCh27WPI9sduc/nTEaOmLDKl9KY1by7cMI2G5dxkRRxnkfN9R+tVZ2cSmHJ8oghEK52E4JC7uQcgDI9CMnnL7O5Wx+0/uVlWREUElgo/eK2CQQf4cZz2p89yGimtGVEhlYyxl4wu3jgg8nnGDz1AJJGaAEW2Q3SQ3MUmnuzZPzYAXbwArkHkjqWxz2p95orwPbxusUVy6GQuZsREEAhcnA3DnO1jnOOCOasEUlzM8knMags7M2wEAFtoOCASFIAxVaRnldpZHZ5HYszMckk9yT1osBoNol6IondYFinQSRStcJGGGO28jOCcH9OoNSR6fqFsg/0mxe3b1vYSp6E/wAXB6ZxWbFcTQJJFHIwilwJEydrgHIyO/NExErsybULNllUAA/QDgflSsO5M8FndSSrHKLaZN3yk7kcgEgKfc4A+tW9B1bxDoN1He6XcSRlCRjzBtYA7ihGeQdv3e+Pasp1jBVs4BPIPVfb/wCv3qSK7ngGA2cDGD1x6fSgLdj1zSfinp93Klr4jhm0q9AXfeLGWViAM74wAQTjjaMZYcYGT2S6mI4IriZoZ7SbiO6t3DxOQVU4cZGdx2gHBJB9K8DOsxX0XlX6LNGvI83kgZB4bqOg6EdMdKu6Br1zos5fw1q+1Xx52n3fzRXHUkYIGc4x0yMn5hTV+hL8z2xIbIshs5hDkFfKI/dtn1U8fTBHes288LreQXEKxeUGRg20/u5i2fmKjG189SByCRyOnNaZ4n0/VEa2uGXQdTYnMNy5NlcY3btj9YsklepVVUAZJrpI9avNO1R7bVxJC5B2wsBjcBuJicDDjBHGeOM4PFWpCsLdiGSCVXSSSF8OwUAHnAGc5wCScdj9a8017wzPayRyK8nksMqrY4JySOvA9M9RjHUV6uCsCRhvLVFOYSiHcwJBydpJ+917/KeSMVmXVrDbPLEWWVk27kYhWVyAe2CQzZxnkZXOOlc97Gtjwe/DxMY5UZCSCVIbA4468+lZjNzgKfxr23U9Ct52AAgkAY5EihiBklCTjDZDdB1GSQAorl77wvbQszOoyckSbc7s5IIHXsOvqOuapSE4nnS+69vSur0vW/tUaW16x85dqRTk/eUD7rcckcYPpxzxTpNDiB/dCQhVG1igX5uOo65zx3/rTG0eWOFHZFJfOG3Dnnn16Z5zjr9Kd0xWOy07VyrpbXjJlR5azPhlK/3HHRlPr261n65oZgea4s4W8pfmlgD7miGeuf4k6YPboexNGzYlFtJziJfuz9WRiOhHUrnHrjIx1IOxpuq+SEtrxgY1GI5QAxiyOnupzgr6cUrjOQcllLLwx4IB5P8An/PenJJ5e5efmGCM9q6jX9CNwwu9PhRJSDI9vFyjDqXi9u5XqO3H3eZJAwFCnDZ9z7elVuIR4SULjaRngDt05/L+VRuFGGBUcEbcc/rTkbGAB8p/zmpHQTEvCNoUEsM8df8A9VAFIgckqQAODjODx/8AXq/Z6kbYhXQSIQOMcgfX8OlU2xxFnow9/wDP/wBelLdAcArnnr+mKBGrPYQXgeeykVDzmIrjn+h/nWRIXW6b7QX3uT5jyZySTnLdz6+/vSxSyQyEwSFWzgjpkf1FaK3trf24ivTsb+Ftv6g9j09uKNh7mOh3I0BjVmbBQ45B46Y/LvSJsaIrgcdGbOAev05HH1HXGat6lp01nIZJX8xXOd+cknqcjr+NVmXDLcMg2P8AeVPlAPfsAPXgEAEfSmImzHLo0srlVkWaNdijAYBX+br16Dp39TVNztYjrzzV8Sl7GO6TZ9qEr+Y4xlxtXqO4+9njnJyTkVUuIlCRvHKpVsLtZlDDjuM549emMdOlAiEsB07e1Bk4xgfjTM8EY/Sk9fTpTAmSQAEEBlIwQfSojGyAGNty9weCKCQfmyM55pQe4NKwxgfdkfxeh60x0VmydxBznnHX/P41K6Ajk9eQwpnzIBn51/vUtgJ4NRltkaNh50HXZIAdo46euPf04rqvD/i2602BbQOl3o8mPM0y7HmQsMk4XPKHJJ47gEg4xXHYDDKgEDr7UIxjyFHy+lO4rdj6OiZ/st1JG0MEyLjhwvy7RnBHGPl5+pySazpYnxIqJAERnM6s3yhQFwMkFh1Az1xnoMmrLjymK3ESEEE7AD2BADcZBI2/XOc88I1uZrhZLedHRsqYwmHJHOeMNtOxeh4GKyNSCI28Uc6p++k5XcoRRuKgbsdfXp2OMmqcsTTBnIDOGORtxtPAz+PP5EnGOZ5YvOmJ27ZI1kJYMM5+UgdMAZP8R/mKGinInkfZFM+ZCoZSOBnAAHBHGcnJz0IGTL0KSTMaWykRws0SrL5bR5ZQMcYIwRjGAeenB6ZzVJ7ZZYJ5JpCW2hAyg4A4+YcDOeh+8epIroGScEr9p+Zco3yMUZz9/cTwOmPRvwqjJCjTbmWOFiT5aozHjoPlByCPmwCBwaBWMaawLW106wqrx7Uf92VZvm+9zkAY47Z985rLBjtiUvEO3ZlmBIMQ67hnHH14xkZzgjqRFHMWjjkJ3IU2wxFnOeDuP1GSMHrk8iqTwtIlxu80fZ4lIjxvChSwDsQewwD8vp0yBTuIwNRkvILN7AXCNbg7gcblwe4OMj3HB6gjPFamr6FFdQCfT44kuNvSEAR3QzxsHRZB/cHBA4GeC2+sYFIjiiZxIgIZVATo2TnqMngAgdO+QahspZtJiEFwn2i0kBVgTjLDg/7rjuPp1GDVJktHNSxyQzmOSNklRsMpG0g+n1znimK7I2Rxg8Y612usadDrdtHcKwe5biO7dsCUAYCS56MMYDd+AfUcVcW720zRSo8UkZw0bgjFWhCyKlyQUHzdcDjNVcODjYeuAPU8f/W/OpFfBBVvzIH/ANapcLcISu0ORjJx0oAqg8lt2SeMdOKFzGdpU59ev4ipJVAYoVYMRk4HeoMhzn+LBVcHpQIt2WqT2pBYiSNV2n1x2x9P8elWpLK3urZ5LLG4gMy5xtPPbjB6DuOfxrFeQo+eSvGOM8gfy5pBM6uCuAOhGMjB9QeDRYB5j8hJRIrCYMF5UFQMHPHr0wadaXXkh43QvbS4Ey4ySAc5HI5HUc/Xir7X0F7GVm+VnXDsOMnqcH6gH8e9Z09jJD820snGGx1/zn9adwHvFEjMc715+UnBGCejDIbjHPvwOhqCWBouckfKHIcbWwcY4PXOcjGeOakj8uYIZgcqu07AScdA3cccDHHb1Jpshmtg0YkPlSAN8pOyQAnBx359ehyOtMRE8TxSMjqyuOqsMH8qYQ4JGKtLeviX5dolcNJ5Z8vIH8IC/Ljn0qIJAxlJ3ouD5agByTngE8Y+v6UARKT3pwDFsLyx7Cp7VZoZYls7tUkkBJ2ymPYfQs2Bn8aieObabhkYqzFPMK8FvTPc0ASLY3TsClrOD6rGxqF43Ay0bDHU7eKQMaVX29MEdxSsFz6Cint3eRbaVWt5EDlQnRSpHJI27lLZIXJIHryLMkYjtU3Q+YZ9zLvOCWOMjYMAHPUdfl9KrEKJJRAl2ZFRmVVHzYWTh2O4/wAO8k4JPfHeW2ml1C52yQyI87BWLEcHH3WY84LMQc5IwuSQQTkbFZrXz5BJtEcG7eEOMjcFVtpPQ8jntuzwM0ObibWYbedVinmAAhijUjyz8oXBwT8vof4eTxxoOJ4beXY0cciFFBJy3ylWy2HwD8p4wSDngADFSVBtgjsJ2XeqBTzvPHzhmVSSMbsEHHBznAFADJptzA/ZHDBlEhiIO3HJBViQxB75+uetVXtBHAlwQZm2FTuAVRnIYbsgHqBn1IPbm3lLW0iDWdtE7owRdx+QADltxx828DBAzgnHORGyeX59vE8zSRhhExGzCsCOcjBIIHQnt7kIDMa3juYHclAEZt0hTaAoxgAdMjrgevfvV1GG6E0szMyyM5ZZIst5gUvkZz3+XHHGc/w1rPA5RpfMQyKN7S7Du2gc474+XIHocjFV57YSeZOk8RuBIXkVSD5hAOGBzj06gcHrQBis8To5EAkV3DmSNWG7cc5YEg9Rnk9B6nBqywWyWskqzo8UpURQnG7BPqCcEcHd9eME1tvZhZAIxHEzExvE4xIBtJBLHG0HHXgHcvPNU3wbAyJMmyJd0bMFDkEAkA4zgYIwMgYIzycoNzCtpp9Lmd9nmQE7ZI26MD0z16jkH+fNad9BaaxpIJZikWBBORloOf8AVyDvHzwRyO2ehmktJr2ZyDG6oSgElxneDIfkJ43DIJIzuHuRWOzz6TeM9szKp4ZH5I/2W7H6jr7HIFp3IaOevbG50+c29xB5bgAgk5BB7g9CPccVWBZWHJGOBXdvHY6xp3lbZDAgJAUkyWjHqyj+JDjlfywa4/UdNuNPaMzoDC+TFInKyD1B/oeR3A6VdySEBLlT5hO/HBFVpo5I533ON2cbt2Rj2I6/hQWzzggjoCfbnvVgTGZQj9egbuBQBTIZjnCsSATgcD/CochuAQBjAKjIq1KDHyRyOOP1qHAP8Hyr25P+f/1UwEQDyjkglSGAZuPQgDuTx+Ap9vdtbI6fMVbAPPIx6fmaRVbzY13hc/LlzkKDxyO39KieMkkgEDGRmgC40MUmHtmIJ6jdjI6HpzyM1VuYWhfzFicREkJ5jd8cjI64454+naoxuicFDtHPfPrV6O4S7VIJX2Dd84/vHp+mT+dAGawUMQrZA6cYNKrYJH97jg1NJbmJjIo3oCQNw7e+Py/wqMw7hI8QxGjchmBYA9On5Zx6dMgUxDDlju9TSZ4x6inuFB7HODwMfh/n0pv4e1AicXTyS+ZcAXBLAt5pJLYGAC2Q2PofSo28gxqULq5IUhgCMYGWyPfPGOB3JpOMjcpwOuDgmkIUnj16ZzxTA+gLoTXdqZbfItA5jZoguCrEAdOFfnPPGegOKtXNu9ugmSQeY037zfDgoGJJyoxg5H4546Cq11czxzl4d9s4yJHgHygktvGeAQD1YkdgODkJb23nrGxdw0h2rKjBix3HcNuTu6sRgjkNkGsWbGkklxFO8TrL9lkiynlqpJUjIGVJ5VGzzg4YDpWZJD5ZSXcltCW8xUiRyxVNwLMGxkgmTuSMH6G8u94PJMqvI6sQpm+Z5Nq+5JJIY853EdBwarvDbCR1tAqKpRT/AAsi84GMgEdMsACN34FDKSxCKaS7gjRnBZyirlCRyWbP3hyeoz6HGSXI73BMS2bNKihmDnlmOGO3tndggYIwoJ6U4NZWWoCxkvN8EoX7xIRgAD8xzhQSTgepIx1NOhiS6iuh5btK+9iiIFb5mBGAcAcZyQMg/nSGLLKoYP5pMjBkmDoyhCSQSq5Bzgjjpn2qglwI5njkhYo8I/eFizB+GUnkKQecj8ve7cLcNatNHIUJZi0fJ5BwGOec4YDJ54I70fZ7iRVml2LcXG3MiNuCjAO7cSTkjggg+h3EnAIoz2s508mVBGAoXY+cx7QMHBIIzgd8EHjpgVPLS5WeV70owhwQylmfcT7DkhgM46sCcAE1o3VvPLNsihjtoI3ZWeJmGzhSPvYyQHUHA6HJHrTu5khneSOaRnWM5lAyASCDxySDnbnj0I6UhlG6gnazZfKj89HVXXzdwVyWXdyuOn45Gc4rNnMU8JmLiNoY8tuP3RnA45yDg8c5OfWtaYTCEi2M3lDEe/ys7sknbn5gp4yMdQDgnqaNxBI0guDKokbkPHgAMCPu/NwA3QjHT1BoEZjQT6eUurYyJJGo81G6rzjd/tIT37Hg9i2hFLbapYyxGLej/PPaKeVP/PSI9m/mODTb1IzDDbwyqkkYdXZYzIh5wOQeeML1wcDqDms64sZ7CYyxiWCSM5VZBtYgcEj3z1XqAR15ItO5LRh6ppj6eykFpbV+YZQCA/qCOxHcdvcYNZpwucjDD1xXfWd7HfiUFEMsqbbi1Y/JcqPT0YdQeoNczq2k/ZA1xal5bVjtIcfPEf7r+/oehx9RVpkmarq6+XIe/UDr2qOWExNu+UKTkYHDY/z3phIVjgmpUkGMNz25piK6r8zMfT5j14phDYC5HXPBPFTyQFHBBBU9Dx64qM7VbGVZQfoD/WgCB1OSec+p70bPnGSpHqOam27lJ9icUzC898Hk0xFuG834SYlsfc2gk5yOP5469fc057eG4HmQZLZGVGQPTnHTP+fWqXAU4AIPrzUzXKqY5Yy/nFSZS5zubJ9+eMfiT7UgGXaRpKEjQpgZYM27nJxzgdsD8Ce9Q4JB688mtATQ3Ue1hsIHpk57H0//AF1BLZyRnIBZcc5GD+X4UwKxx2ppA7E0oP8AdJBH6UuABy3TgCmI+hvMkeQB8yoEWZIpSTycKAEJJJHmD3+bHTOWPALopd/u0nwTLbbgnBJXzByuAMY2nrxwRinXSOsKunmRPD/FnbOCMbo03ZK5Yn6DOScYqqYbiAXcrxKpEgRSiglW+YgDKnnlgAMHI556YmyJ3tlDK84yiRKkdxkbQd+BuXA6bTkHGSpyTkVNGgUpbS2zxKVLbTtBU7d3IKgYIxknIG3pxULjyXuZPKm2MxVJJlwyDptPJJ6sBn36fNidE+3Nt+8u9T5aBnZyMruUk7i2PZgN2eMcoZSuraRLuRhb4kQEmBxkseQxI5B+73YYPIzSNFMwCSRyWwUmJfKJHLMRgkZKHJbO45OV44NTTRx3OnO4aMoiiXZhhvULxhQMk7gSWGOM7jk0yxuFhQMwhdEkjBG1kJ3OepKgDkvyx79uKTBE8qSz3Mtx1SOMs7qcBMNwfmOcnpg4ORjPO2q8MMUshlZZmQSbSE3Yl25+ZSBwQMYJJOcdegiimMQllDJKkhIQecBxnqNpwMP/AHexPQHIWMTLbpdyKzPvIYBF2jbh8k85IJ6ED7uBwGoGRSwxqxFqylgcguoXIOD07qMHPy4Pp2EszC7t3zPHcwKd+JcIwC4XK5wdp69uh47h1tEgnEc0UkkZJLRomQ3Vk9c+gAwMAAkdagmWBbmFY3czxqioPIzuOPmyBnAbJyASRxkcYoAqXFujjbEkYmlJRYpFz5rZwQSDx06D/CqU8XkLbyIrGDJ2sFwu8cH7wIz8oPOQdyjParkchjWctEPKkOxmIH3R3BAyO3TPOOvdo3+SvnHLxRgbQQeApbbuwOgYZGeRznA4QGdcwNI0ZlikuvmWIRKmQTzyDg5A2kfnyO2XOJXhgWWZ2njUuTnKqWAJcdwRtxknrjscjVlkFxaokUu/jy8BEDDoNvHzHnAz359M09vKkkuInuBJageWZYU3ZK4OWQ9sZ/746dSQDnr6FY3MsThJ0I8wIpRSSN25cgbT2K9jyuQeLljqJvCAWjS7+6d65S4H91x0NWmtMFYzGyu+I7d4ydq4IGABz14+6WGBgHgHImsd6IEQpcgE8jaJO+B23DnGDhgBjDDBtO5m0UNa0VEle4sUZYRzLbtktbnp1/iX0b8D2zgtw+DjAz07V2tjqRuGVZphDdIMR3H97/ZYdCPr/wDrz9Z0jzGaezhEcw5ntF7H+/H6r6j+H6dLRJzySAAI7EjOcUySNl5A+X/PFNYEMO/sRUitn5WAwR3piImBwxLfPkncc5b8/wAajbGMAZ4HNTshRs5JXoCM/j/OocDcDnP40wGnGMd+nuKM8hivGMAYxgU7oDgKcdM9qBtwVB69ec5oAZuPTPTn3B//AF1at71kARyTHjrnn/69V3BA2jPAzgdPr/KmrgAf3s9c0CNCW0ScM8Dryfu9B0/SqDo0bFXUgjg+1OiuZIGLIxGRjHUGtDz7e6jwyBXPb39j+H6UAe6SXstvLHtuYvIZQ6yeYr+UpYEjKqSDhU45wWBz2pttFCiCIhzIW/dfZ8HacoASRy3LcYOCScAYNJFdBYkiliMcsTKDtiXbt3LuViBjgZGCO232pttcoGQoqmMKQyM+NnJwWbALY55IO0kdOBWZqQxW81qN9mApdDJIroMjCqAecfxZI+vrnK3N0bWJGF3IuZSpLFkIXJVgxUZPPGMkZVuuTVmGVGsXaK3Uko5HykBG2nBxnryOecZHPTGXBZ25jWS6Z2cFGmIOWwMjCru+9znJ6YPoKQzTkvbq3v7aOSVGlbALrhsKSM5UDO8NuPUcgdDzVKSJZraRrh0WJo1YvsOwrk/KSMhTlSoC8nqadBLI9k8gMkQLZG0ghck84IyeSBn1OO+KQwWbQrHMglUj5olG0SNuOF6FWBzuHHPQE9KQx1shlt2ILtCq7Q0c3lb/AL20A8n7uRzjO4YAJGVWaF7rfcK376QFI7VFkG7P3VH0LYGe4xjJqDyY2EwkvImni8xFeQgkjJC8BTnJcYJ5+U4I2kiYbLmaBRJ5VqhMgjYhSct3OctwiDI/unjAFIZG5SWV5phCxdQcquCAFLY3HAyRxg5/HGKjKG7jj8wg7HEaQBgjKPu4yc7c4z8wOcjqSavQyo26I3EvmSyssjx/u0YMRhfLx0+UkgAHtzkYq3Q8y1eOHzfLeFSVWNCXO0egDbdoX16E9iKBFTdF9jjIhj8zcP8ASH2kHIHJXGQPu4OPX3p8jAxlikaFlYLLgbQQxI3EnIBRjnnccr2xViOBjaCPYnyMTJmI74gGZmHA2hh937p+XHTmq7Nay6e2/wCzhgVZANgaTG4cAf7QB6ZHGeAmQCnd+Tf3Mc7spMoCqkqKAigbgcnAHy8ZwOAMkZOKU8fm5upRG8jDftdmzJnndxjBPA64OD16G7LbKt00MxiV8bzuZVDAuBtKgcFSX9iBwSBkwCSKdkl2h42BUvKSRuC5GT6noPTb7mgCm1vgpI3nSSMQ+1MblPchs5UgY4weQPYipqO5pHtRKtxGrYVmk3lVB2r830xnnoOBjFbIhmujLDCZZVkhGySYMSka4Zvu8bR9MkjgDtQd2jMiqWfCuJC64PGCCuRnqMgkhhtPekBjatbSC5HmqUnOd3mcM/oT2JweW4z1IzyVs78tttrlmikjP7qfo0Z9D7VpXCzLbGBAHRIm5kIHycr3PzEEBgp5HoDnGZcQRyxBZXMcpz5DSAglBjaGJ4wQRtbJx0PGCLTIaGazpJv5WkiRU1ELl40GFuB/fX/a9V79RzxXKYXzAeB0AzxmurtL1UjNneo3lg8E/ejNSappx1HartGt9g+XMDhbkejHs3oe+cHsa0IOUSQNmN84wRULoUJViB9e9PaLypmSVWQqSpUjlSD3p4JdChbBIoAgIyu0ZXHLA9KRCB8x7k/Kf8/5xT3GWJIwBz8o6dKTYqn5+Rjr2+tMBjg/KQuOcKNvfijaOQeOB/jT8hDyB8vGD0/+vTgpckEgLnGWPegRXbJPr9aXaQ3UYPv/ADpz/d67gOMnilz8wyHXv07GgD3m6me4v4wY5pX81YYmk+86qcDlcEsRjoQMnPHADP8AmGtFJ5TAkeXOzMuM4bn3IwenUnBwKaI/s4nj1ViHkkMAdlO6JQQWIJ5bjIPAz2blqFiljjmE1xIGXeT5zYIyNu7OdxO0AbewPPGc5mxNDgy7JkEgV13lfmwB8oIAJHYDBOOR6810RUluPKDR7DlSsv3DkhevDHkDH1qa3QzXQgIt0SbBJkRigzySBnOAQccnrzjcRUy5VglzLK0iFU8lWdY0xn5CAePmzz15znORSAlaYhjPDapJIUYtK5DNHtx027cEADk9ct261Lq3tntWdZJZFDCQyRyFlfJADleSOW79ww4Jpgjby2dSZocmQnac5X7xIyPVie+AT70R2xlkkMuVVpxEJycAKePmC8DIB656D3NACS20VosamWEmbD7TiNjk5xkD5V2kcEkYOcYPFuF2YnzHkaONZQsi4UyLtUYByS2Bu6ls5AwAciGJoREW3xMrQ+VI86+buO0MnJPDZAGB0A55BqBbpmvQIrfz5SqxJAzhjjJPBXGCBkfLjGfbFJjGFp3fY4WG1f8AeosZLr0AyTk8DcPXGffnQNzNcXXk3L/ZlMAQRySEArnOApHPBXAXB5BHYVDFbW6tdRrdK1u0YZXEI+YBiijbuJGdv+9zk4qupe5BaIQwLGgIjaMKJCFCnuBkZOCeTnqTgUhDJo4kLPKkjRzOC4VipcZHynIYf3+R3PpTZZJPtMUdta+cxkVstbhecbdrEYyBuI555zxyKsTqZopJEmjZkAlAeUxycNjAz0P4Y5yeeKq3UYhEaCJi2TG2EALYOQWB4IJ6EdcYHSgZXdpS+JRb3JWVhGWUAMc88nnBODg9iOOcUXjSzzxxyqxRMHGWd8ZCnsSTzjBIGeOgFNdZ1muklEjGRvMeN0yXI53MTz09MZyfeprdI7m4ggJBimbJZmC/MV5+bBPUjGRxjPGaBEF3Mkt0qW8bSqYysck6hg5K+nGCMHBJ/hB96z4bZPtZaMrJ8u5pPmXKjgFd4yeM9QCM9ziraofNITzFtlIkC7vMxkjg4PJG4jORnI6Zpl48wluYXcvtJjeXeQmRnptJHIUc88AD0wAZ1yGRXVUVZWUNJhwTlclDlsnnd078DqKrSRlVkje3YlQC0eAu04GVLcNjaMY5+uTmtF1j82FlZYZAoG0ZIKsQGJ/AjgdBxVWGOf7OZopcRwfJIokA+8CM89c4boOh9CMsRjXESmYoVK7VA353cY6/7vfvgeuMU63ujbk2l6haH0znb3BBHb6fhWjeYiMtxEY2Zs74+CgHcAsc555/TOM1nzQp9nihy7BVJ8zH+rJOcepUjsM92B5INJktEt9Yw38eLhlDuB5F7246CT/4rr07Vylxb3FncG3mQxyRnBU9uP1//VXQ211JaM0E6bomxuQ+nXI/nVq6tLa7hiScs1vjbFcr96P0Deqg9vrVpknKuZLgmXvncxx09/zNREhlUZ6D681ZvLOXTbowTgZwCpXlXB6EH0NQspU4B4PTGMUwI23JnqSBjlRkd6RxhcZ+bpyOfx/z2qRsA8AcnjJ4/wAKbksGY4J6H3+goAaqYYqeOeTjkevHFMP3cbeT7U/OE3ZPXqBTSB8gBwTz0oEe/SCSEubuK5YiZmkMana8p4LcghX5xldpywPQAGuLm3tNVEzORi4Zd8G5G4yMHp97gfeGOc4zy2SQWcUlq6RSWkqkTm3lyGIXBwQGGcHPOCNxyOlOiEgDXWzy44cFZo+SqlpMLkDOMgqDx2HOOMjYeZY7eSNoWhVzHlgrYDHcTn1UnO3nsM5xUc5MKbklL2bEHyxICVQMxAYAY3dTk9c+lSF/sxeRwQxYrHEUZCjrg7jyPmBOcEnGD6g1EkstxZ/diJMgxL8gKgcKG6diME4zhuwOGIna584N5XkSxhAxSKJvKhI6dgAw4GQCDuJBzyGT5tS8eFmKhgQ6ttOVwTgkYAOCCcEZ57gJI4utRgVZeXjVEklXAbauB8ozxuXHOeO2akS2jms2uUnWMwlT5SxgYBwyqu47h1HOcZDY3DJCAS5mbbFDcx2kMXl/dKbPJI3gD8wT359eBVZPNiuIBHcFcqFyn7puWAOHAOchiATzjOR63J7dJ7YwHen2csMuQpdtvJI5DEcHCjgd85NVnhS4jWzuZLjbFvAKSMVdt2RgY/d5xnGMnrxngGSzXKeWzW80rrGiNNjkK+MA8ZGVJVOx69OgpW9ySygT+SWYjzNgOFxgAEHg7T2zkkdwMK9mbNLdpGEUa/MrkfL5hBOCwAJwTnBBxjA5JplpqT2qrDCochkKtuOxdpb0OR94c7u5FICRmtmiXzZG3rv34AXPcEkk5JL5yeyn73SpZhD9pjN3LGyRo3yDCkPswBkDBywB44GTk96B9ovNy7GuTEFfc64EoQHgZ5Ixtzz25znIYI/PupbZDHauWIC3DlYkAJwASpIxgKe+SB0BJdhFRbRJriVy0cZZCpUKdyA8g5P8J4APpgdxmDBVDckeYAmwCNSu3IYDGR1wenp1wavqXigaN4mgRnDAKdqkZAcZJJGCPw+h4ga63osMlt9+XzgVYIqKcDGAufyIJx3wMTYLkO4yqWmDOYwhIWJSQqgDdj39ehPfk01pDHD50QdZHUDchwckYyMDpnP5gZ5Jpt3asJ2OY03RgRYOCy5yMYAGcBs/UjqSKsX6PkSQJthljRgkUbADnhDkZxuU9znbnjsDZSjTzWiEUMaJHxIiAE8E7crjLAfMO/v2FVrgyyWMhESCON1Vog2CM7ixbocjgZGO2TViYNJEoyjuylFUFcZznaF7c7jx0JH4lzHcZ+zi4MwOCSMKJCrYwxzg9FycnqOTg4ZJnPAYWj+4MpwU2soQENnkZUHBweTlTmqrqzmNZZIgrnZMBgbAeMlu2dyjGQODnHFXPOfbJ8qIiAZO8HG7GcLnkEgHv0HFMuY2jt0/exgAYRZMbSDhiTtPAxtHHbngmgDKlh8/znWJlActLCsZJhHyEsOemXwMnnH0NQxTyWMu1iJImHY5Vx0yP8+xrQna6iuzCVCljgsgxuwcZPHds+3PtiqDSpc7YxHtAG6UJzhsgEqPf09B7ZqkyWWbi3triyAYNLaZypH37cnrj29RXP6hp8mnSBWZXicbopVHDD+h9RWlFPLZPuRgyMSOD8r4/wA/rUzXFrIrRMpe2kOWhzgxt/eX0P8APpVknNfKV2hcvjqByB1pgyQByRmtO/017RRNGfNtHbEco9QOhHY9evXFZ7LgYOMY4pgIpRgcNjAxzkE+tNVAWO4lefT09vWnZKsR6Y5GOvtSAjOSOD6GgD//2Q==\"}}]}, {\"role\": \"assistant\", \"content\": \"{'damaged_part': 'door', 'damage_type': 'scratch', 'damage_severity': 'minor'}\"}]}\n"
     ]
    }
   ],
   "source": [
    "!tail -n 1 car_damage_train.jsonl"
   ]
  },
  {
   "cell_type": "markdown",
   "id": "ceb18183",
   "metadata": {},
   "source": [
    "### 2. Finetune model\n"
   ]
  },
  {
   "cell_type": "code",
   "execution_count": null,
   "id": "f99102a9",
   "metadata": {},
   "outputs": [],
   "source": []
  },
  {
   "cell_type": "code",
   "execution_count": 74,
   "id": "19aeb95a",
   "metadata": {},
   "outputs": [
    {
     "name": "stdout",
     "output_type": "stream",
     "text": [
      "FileObject(id='file-To5fusadl3iSeI7h373inAwJ', bytes=313245, created_at=1727994309, filename='car_damage_train.jsonl', object='file', purpose='fine-tune', status='processed', status_details=None)\n"
     ]
    }
   ],
   "source": [
    "response = client.files.create(\n",
    "    file=open(\"car_damage_train.jsonl\", \"rb\"),\n",
    "    purpose=\"fine-tune\"\n",
    ")\n",
    "print(response)"
   ]
  },
  {
   "cell_type": "code",
   "execution_count": 75,
   "id": "6f1eab5c",
   "metadata": {},
   "outputs": [
    {
     "name": "stdout",
     "output_type": "stream",
     "text": [
      "file-To5fusadl3iSeI7h373inAwJ\n"
     ]
    }
   ],
   "source": [
    "file_id = response.id\n",
    "print(file_id)"
   ]
  },
  {
   "cell_type": "code",
   "execution_count": 76,
   "id": "6a4a47c8",
   "metadata": {},
   "outputs": [],
   "source": [
    "# response = client.files.delete(file_id)\n",
    "# response"
   ]
  },
  {
   "cell_type": "code",
   "execution_count": null,
   "id": "4771cc9e",
   "metadata": {},
   "outputs": [],
   "source": []
  },
  {
   "cell_type": "code",
   "execution_count": 77,
   "id": "2c9f7ecf",
   "metadata": {},
   "outputs": [
    {
     "name": "stdout",
     "output_type": "stream",
     "text": [
      "Fine-tune job is started\n"
     ]
    }
   ],
   "source": [
    "response = client.fine_tuning.jobs.create(\n",
    "    training_file=file_id,\n",
    "    model=\"gpt-4o-2024-08-06\",\n",
    "    hyperparameters={\"n_epochs\": 1}\n",
    "    #validation_file\n",
    ")\n",
    "\n",
    "print(\"Fine-tune job is started\")\n",
    "ft_job_id = response.id\n"
   ]
  },
  {
   "cell_type": "code",
   "execution_count": null,
   "id": "b8d4fea3",
   "metadata": {},
   "outputs": [],
   "source": []
  },
  {
   "cell_type": "code",
   "execution_count": 82,
   "id": "77ae872a",
   "metadata": {},
   "outputs": [
    {
     "data": {
      "text/plain": [
       "SyncCursorPage[FineTuningJobEvent](data=[FineTuningJobEvent(id='ftevent-ungwMznFBoet4owazVfnXvka', created_at=1727994898, level='info', message='The job has successfully completed', object='fine_tuning.job.event', data={}, type='message'), FineTuningJobEvent(id='ftevent-c9xQyPII2tlHbUeJHDBQ0Oo3', created_at=1727994894, level='info', message='New fine-tuned model created', object='fine_tuning.job.event', data={}, type='message'), FineTuningJobEvent(id='ftevent-gTxHyBwAHpjD5CJliEr8927I', created_at=1727994862, level='info', message='Step 13/13: training loss=0.13', object='fine_tuning.job.event', data={'step': 13, 'train_loss': 0.12681572139263153, 'total_steps': 13, 'train_mean_token_accuracy': 0.9615384340286255}, type='metrics'), FineTuningJobEvent(id='ftevent-USGAoYMyGam2CqXpdHZg0HHz', created_at=1727994862, level='info', message='Step 12/13: training loss=0.17', object='fine_tuning.job.event', data={'step': 12, 'train_loss': 0.16928020119667053, 'total_steps': 13, 'train_mean_token_accuracy': 0.9230769276618958}, type='metrics'), FineTuningJobEvent(id='ftevent-GnETa2gFGZtrO4Ez5AQGfSiy', created_at=1727994858, level='info', message='Step 11/13: training loss=0.17', object='fine_tuning.job.event', data={'step': 11, 'train_loss': 0.16573575139045715, 'total_steps': 13, 'train_mean_token_accuracy': 0.9615384340286255}, type='metrics'), FineTuningJobEvent(id='ftevent-IsM3diLLjcH7U1zi98pOB8FH', created_at=1727994856, level='info', message='Step 10/13: training loss=0.22', object='fine_tuning.job.event', data={'step': 10, 'train_loss': 0.2217131406068802, 'total_steps': 13, 'train_mean_token_accuracy': 0.9230769276618958}, type='metrics'), FineTuningJobEvent(id='ftevent-A2cWes2AnBQy4XCvL0KjPG4k', created_at=1727994852, level='info', message='Step 9/13: training loss=0.23', object='fine_tuning.job.event', data={'step': 9, 'train_loss': 0.2316717505455017, 'total_steps': 13, 'train_mean_token_accuracy': 0.9200000166893005}, type='metrics'), FineTuningJobEvent(id='ftevent-JMASvjhX4Uz1pveeePaqqJty', created_at=1727994852, level='info', message='Step 8/13: training loss=0.42', object='fine_tuning.job.event', data={'step': 8, 'train_loss': 0.41918694972991943, 'total_steps': 13, 'train_mean_token_accuracy': 0.8846153616905212}, type='metrics'), FineTuningJobEvent(id='ftevent-QJ21k9gx4hz8ZF6reA5BknmI', created_at=1727994852, level='info', message='Step 7/13: training loss=0.46', object='fine_tuning.job.event', data={'step': 7, 'train_loss': 0.4607790410518646, 'total_steps': 13, 'train_mean_token_accuracy': 0.8799999952316284}, type='metrics'), FineTuningJobEvent(id='ftevent-cm6gJKXPc1ULrF8DbAwzzw03', created_at=1727994849, level='info', message='Step 6/13: training loss=0.65', object='fine_tuning.job.event', data={'step': 6, 'train_loss': 0.6493005752563477, 'total_steps': 13, 'train_mean_token_accuracy': 0.8846153616905212}, type='metrics')], object='list', has_more=True)"
      ]
     },
     "execution_count": 82,
     "metadata": {},
     "output_type": "execute_result"
    }
   ],
   "source": [
    "response = client.fine_tuning.jobs.list_events(fine_tuning_job_id=ft_job_id, limit=10)\n",
    "response"
   ]
  },
  {
   "cell_type": "code",
   "execution_count": 79,
   "id": "4478763a",
   "metadata": {},
   "outputs": [],
   "source": [
    "#dir(response)"
   ]
  },
  {
   "cell_type": "code",
   "execution_count": null,
   "id": "41533e9e",
   "metadata": {},
   "outputs": [],
   "source": []
  },
  {
   "cell_type": "code",
   "execution_count": 83,
   "id": "ab34b177",
   "metadata": {},
   "outputs": [
    {
     "name": "stdout",
     "output_type": "stream",
     "text": [
      "FineTuningJob(id='ftjob-3IQrF0olbpZgypJGmzSPboeM', created_at=1727994311, error=Error(code=None, message=None, param=None), fine_tuned_model='ft:gpt-4o-2024-08-06:personal::AEOhKzIQ', finished_at=1727994892, hyperparameters=Hyperparameters(n_epochs=1, batch_size=1, learning_rate_multiplier=2), model='gpt-4o-2024-08-06', object='fine_tuning.job', organization_id='org-skZHDYN1xmsxAl538Hbgo1ud', result_files=['file-4Qe4zEMfCQF97RiNLLVRnpLu'], seed=1680275706, status='succeeded', trained_tokens=5196, training_file='file-To5fusadl3iSeI7h373inAwJ', validation_file=None, estimated_finish=None, integrations=[], user_provided_suffix=None)\n"
     ]
    }
   ],
   "source": [
    "response = client.fine_tuning.jobs.retrieve(ft_job_id)\n",
    "print(response)"
   ]
  },
  {
   "cell_type": "code",
   "execution_count": 84,
   "id": "945ed174",
   "metadata": {},
   "outputs": [
    {
     "data": {
      "text/plain": [
       "['file-4Qe4zEMfCQF97RiNLLVRnpLu']"
      ]
     },
     "execution_count": 84,
     "metadata": {},
     "output_type": "execute_result"
    }
   ],
   "source": [
    "result_files = response.result_files\n",
    "result_files"
   ]
  },
  {
   "cell_type": "code",
   "execution_count": null,
   "id": "f020cb44",
   "metadata": {},
   "outputs": [],
   "source": []
  },
  {
   "cell_type": "code",
   "execution_count": null,
   "id": "9e07486f",
   "metadata": {},
   "outputs": [],
   "source": []
  },
  {
   "cell_type": "markdown",
   "id": "b8887fe8",
   "metadata": {},
   "source": [
    "### 3. Use the finetuned model"
   ]
  },
  {
   "cell_type": "code",
   "execution_count": 85,
   "id": "e7f5426e",
   "metadata": {},
   "outputs": [
    {
     "data": {
      "text/plain": [
       "'ft:gpt-4o-2024-08-06:personal::AEOhKzIQ'"
      ]
     },
     "execution_count": 85,
     "metadata": {},
     "output_type": "execute_result"
    }
   ],
   "source": [
    "fine_tuned_model = response.fine_tuned_model\n",
    "fine_tuned_model"
   ]
  },
  {
   "cell_type": "code",
   "execution_count": 89,
   "id": "cf00394e-764a-4bf1-b6aa-b6321152d0c1",
   "metadata": {},
   "outputs": [],
   "source": [
    "image_url=\"https://images.pickles.com.au/image/upload/f_auto,q_auto,w_2000/c_scale,g_south_east,l_pickles-logo-white_mipoap.png,o_60,w_0.4,fl_relative,x_0.02,y_0.02,fl_region_relative/v1726789702/asostfbejshw7ekod5xa.jpg\""
   ]
  },
  {
   "cell_type": "code",
   "execution_count": 92,
   "id": "10af6915",
   "metadata": {},
   "outputs": [
    {
     "name": "stdout",
     "output_type": "stream",
     "text": [
      "Choice(finish_reason='stop', index=0, logprobs=None, message=ChatCompletionMessage(content='- Damaged Part: bumper\\n- Damage Type: dent\\n- Severity Level: major', role='assistant', function_call=None, tool_calls=None, refusal=None))\n"
     ]
    }
   ],
   "source": [
    "response = client.chat.completions.create(\n",
    "  model=fine_tuned_model,\n",
    "  messages=[\n",
    "    {\n",
    "      \"role\": \"user\",\n",
    "      \"content\": [\n",
    "        {\n",
    "            \"type\": \"text\",\n",
    "            \"text\": \"Identify which part of the car is damaged and the severity level of the damage. \\\n",
    "                        Possible values for the damaged parts are: [bumper, door, glass] \\\n",
    "                        Possible values for the damage types are: [dent, scratch, shatter] \\\n",
    "                        Possible values for the severity level are: [minor, major] \\\n",
    "                        \"},\n",
    "        {\n",
    "          \"type\": \"image_url\",\n",
    "          \"image_url\": {\n",
    "            \"url\": image_url,\n",
    "          },\n",
    "        },\n",
    "      ],\n",
    "    }\n",
    "  ],\n",
    "  max_tokens=100,\n",
    ")\n",
    "\n",
    "print(response.choices[0])"
   ]
  },
  {
   "cell_type": "code",
   "execution_count": null,
   "id": "1ed97d4b",
   "metadata": {},
   "outputs": [],
   "source": []
  },
  {
   "cell_type": "code",
   "execution_count": null,
   "id": "09e8c739-8a91-4d16-8807-8d778a625ced",
   "metadata": {},
   "outputs": [],
   "source": []
  },
  {
   "cell_type": "code",
   "execution_count": null,
   "id": "364d5805-32df-4ede-8d08-76f73b04496a",
   "metadata": {},
   "outputs": [],
   "source": []
  },
  {
   "cell_type": "code",
   "execution_count": null,
   "id": "b0b3b935-83d9-49eb-960a-0b49f0bea0cc",
   "metadata": {},
   "outputs": [],
   "source": []
  },
  {
   "cell_type": "code",
   "execution_count": null,
   "id": "9e28be41-6b8f-40c3-bedb-334ff267009a",
   "metadata": {},
   "outputs": [],
   "source": []
  },
  {
   "cell_type": "code",
   "execution_count": null,
   "id": "bea7ca08-d5ca-4918-8c08-407c4ef0091f",
   "metadata": {},
   "outputs": [],
   "source": []
  },
  {
   "cell_type": "code",
   "execution_count": null,
   "id": "40093779",
   "metadata": {},
   "outputs": [],
   "source": []
  },
  {
   "cell_type": "code",
   "execution_count": null,
   "id": "a53028f5",
   "metadata": {},
   "outputs": [],
   "source": []
  },
  {
   "cell_type": "code",
   "execution_count": null,
   "id": "5c5b639c",
   "metadata": {},
   "outputs": [],
   "source": []
  },
  {
   "cell_type": "code",
   "execution_count": null,
   "id": "e0cb60b9",
   "metadata": {},
   "outputs": [],
   "source": []
  },
  {
   "cell_type": "code",
   "execution_count": 98,
   "id": "bee90330",
   "metadata": {},
   "outputs": [],
   "source": [
    "#client.models.delete(fine_tuned_model)"
   ]
  },
  {
   "cell_type": "code",
   "execution_count": null,
   "id": "ad30ac4e",
   "metadata": {},
   "outputs": [],
   "source": []
  },
  {
   "cell_type": "markdown",
   "id": "0f08d28f",
   "metadata": {},
   "source": [
    "**Advantages**\n",
    "- Higher quality results than prompting\n",
    "- Ability to train on more examples than can fit in a prompt\n",
    "- Token savings due to shorter prompts\n",
    "- Lower latency requests\n",
    "\n",
    "\n",
    "**Disadvantages**\n",
    "- Expensive & handware\n",
    "- more LLMOps"
   ]
  },
  {
   "cell_type": "code",
   "execution_count": null,
   "id": "2345bc0d",
   "metadata": {},
   "outputs": [],
   "source": []
  },
  {
   "cell_type": "code",
   "execution_count": null,
   "id": "910ed07d-45da-4638-a3db-fe33a8f434b1",
   "metadata": {},
   "outputs": [],
   "source": []
  }
 ],
 "metadata": {
  "kernelspec": {
   "display_name": "py33",
   "language": "python",
   "name": "py33"
  },
  "language_info": {
   "codemirror_mode": {
    "name": "ipython",
    "version": 3
   },
   "file_extension": ".py",
   "mimetype": "text/x-python",
   "name": "python",
   "nbconvert_exporter": "python",
   "pygments_lexer": "ipython3",
   "version": "3.11.5"
  }
 },
 "nbformat": 4,
 "nbformat_minor": 5
}
