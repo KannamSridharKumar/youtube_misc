{
 "cells": [
  {
   "cell_type": "markdown",
   "id": "f8c8dc97",
   "metadata": {},
   "source": [
    "## Workflow \n",
    "\n",
    "### Step-1: Plan reseach\n",
    "    input: user query\n",
    "    output: research plan\n",
    "    fun: make_initial_searching_plan_async(session, user_query)\n",
    "\n",
    "### Step-2: Create seach queries\n",
    "    input: user query \n",
    "    output: search queries\n",
    "    fun: generate_search_queries_async(session, initial_query)\n",
    "\n",
    "### Step-3: Seach web \n",
    "    input: user query + search query --- \n",
    "    output: seach results (context)\n",
    "    fun: perform_search_async(session, query)\n",
    "    fun: process_link(session, link, user_query, search_query)\n",
    "          \n",
    "    web search: SEARXNG -> meta seach engine -> find urls\n",
    "                jina.ai -> scrap urls (API)\n",
    "        \n",
    "### Step-4: Judge seach results & Plan research (future)\n",
    "    input: user query + reseach plan + search results (aggregated context)\n",
    "    output: new resarch plan\n",
    "    fun: judge_search_result_and_future_plan_aync(session, user_query, reseach_plan, aggregated_contexts)\n",
    "    \n",
    "### Step-5: Create new seach queries\n",
    "    input: user query, new research plan, previous search queries, aggregated contexts\n",
    "    output: new seach queries\n",
    "    fun: get_new_search_queries_async(session, user_query, new_research_plan, all_search_queries, aggregated_contexts)\n",
    "    \n",
    "### Step-6: Create writing plan\n",
    "    input: user query, all the aggregated contexts\n",
    "    output: report plan\n",
    "    fun: generate_writing_plan_aync(session, user_query, aggregated_contexts)\n",
    "    \n",
    "### Step-7: Create writing plan\n",
    "    input: user query, all the aggregated contexts, report plan\n",
    "    output: final report \n",
    "    fun: generate_final_report_async(session, user_query, final_report_planning, aggregated_contexts)\n"
   ]
  },
  {
   "cell_type": "code",
   "execution_count": null,
   "id": "aab7157f",
   "metadata": {},
   "outputs": [],
   "source": [
    "#!docker run -d --name searxng --restart always -v $(pwd)/searxng:/etc/searxng:rw -p 4000:8080 docker.io/searxng/searxng:latest"
   ]
  },
  {
   "cell_type": "code",
   "execution_count": null,
   "id": "1e41902a",
   "metadata": {},
   "outputs": [],
   "source": []
  },
  {
   "cell_type": "markdown",
   "id": "6dd64ffc",
   "metadata": {},
   "source": [
    "#### Important\n",
    "\n",
    "1. Open the settings.yml which is located in the folder from where you ran the above docker command\n",
    "\n",
    "2. Update the formats of the section to inlcude json, by default only html is included.\n",
    "\n",
    "\n",
    "formats: [html, csv, json, rss]\n",
    "formats:\n",
    "    - html\n",
    "    - json"
   ]
  },
  {
   "cell_type": "code",
   "execution_count": null,
   "id": "f49f7a57",
   "metadata": {},
   "outputs": [],
   "source": []
  }
 ],
 "metadata": {
  "kernelspec": {
   "display_name": "py99",
   "language": "python",
   "name": "py99"
  },
  "language_info": {
   "codemirror_mode": {
    "name": "ipython",
    "version": 3
   },
   "file_extension": ".py",
   "mimetype": "text/x-python",
   "name": "python",
   "nbconvert_exporter": "python",
   "pygments_lexer": "ipython3",
   "version": "3.10.13"
  }
 },
 "nbformat": 4,
 "nbformat_minor": 5
}
